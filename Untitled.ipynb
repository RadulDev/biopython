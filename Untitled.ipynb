{
 "cells": [
  {
   "cell_type": "code",
   "execution_count": 1,
   "id": "89c823ca",
   "metadata": {},
   "outputs": [],
   "source": [
    "from Bio.Blast import NCBIWWW"
   ]
  },
  {
   "cell_type": "code",
   "execution_count": 2,
   "id": "6190521f",
   "metadata": {},
   "outputs": [],
   "source": [
    "result_handle = NCBIWWW.qblast(\"blastn\", \"nt\", \"\"\"ggtaagtcctctagtacaaacacccccaatattgtgatataattaaa\n",
    "attatattcatattctgttgccagaaaaaacacttttaggctatattagagccatcttctttgaagcgttgtc\"\"\")"
   ]
  },
  {
   "cell_type": "code",
   "execution_count": 3,
   "id": "9d272bc5",
   "metadata": {},
   "outputs": [],
   "source": [
    "with open('blast_results.xml', 'w+') as save_file:\n",
    "    nipah_blast_results = result_handle.read()\n",
    "    save_file.write(nipah_blast_results)"
   ]
  },
  {
   "cell_type": "code",
   "execution_count": 13,
   "id": "ad3f79df",
   "metadata": {},
   "outputs": [
    {
     "data": {
      "text/plain": [
       "<Bio.Blast.NCBIXML._XMLparser at 0x7ff41d98adc0>"
      ]
     },
     "execution_count": 13,
     "metadata": {},
     "output_type": "execute_result"
    }
   ],
   "source": [
    "from Bio.Blast import NCBIXML\n",
    "\n",
    "result_handle = open(\"blast_results.xml\",\"r\")\n",
    "blast_record = NCBIXML._XMLparser(result_handle)\n",
    "blast_record\n"
   ]
  },
  {
   "cell_type": "code",
   "execution_count": 11,
   "id": "064b3dde",
   "metadata": {},
   "outputs": [
    {
     "ename": "TypeError",
     "evalue": "'_XMLparser' object is not iterable",
     "output_type": "error",
     "traceback": [
      "\u001b[0;31m---------------------------------------------------------------------------\u001b[0m",
      "\u001b[0;31mTypeError\u001b[0m                                 Traceback (most recent call last)",
      "\u001b[0;32m/tmp/ipykernel_9383/3389722060.py\u001b[0m in \u001b[0;36m<module>\u001b[0;34m\u001b[0m\n\u001b[1;32m      1\u001b[0m \u001b[0mE_VALUE_THRESH\u001b[0m \u001b[0;34m=\u001b[0m \u001b[0;36m0.00000000001\u001b[0m\u001b[0;34m\u001b[0m\u001b[0;34m\u001b[0m\u001b[0m\n\u001b[1;32m      2\u001b[0m \u001b[0mcount\u001b[0m \u001b[0;34m=\u001b[0m \u001b[0;36m0\u001b[0m\u001b[0;34m\u001b[0m\u001b[0;34m\u001b[0m\u001b[0m\n\u001b[0;32m----> 3\u001b[0;31m \u001b[0;32mfor\u001b[0m \u001b[0mrecord\u001b[0m \u001b[0;32min\u001b[0m \u001b[0mblast_record\u001b[0m\u001b[0;34m:\u001b[0m\u001b[0;34m\u001b[0m\u001b[0;34m\u001b[0m\u001b[0m\n\u001b[0m\u001b[1;32m      4\u001b[0m     \u001b[0;32mfor\u001b[0m \u001b[0malignment\u001b[0m \u001b[0;32min\u001b[0m \u001b[0mblast_record\u001b[0m\u001b[0;34m.\u001b[0m\u001b[0malignment\u001b[0m\u001b[0;34m:\u001b[0m\u001b[0;34m\u001b[0m\u001b[0;34m\u001b[0m\u001b[0m\n\u001b[1;32m      5\u001b[0m         \u001b[0;32mfor\u001b[0m \u001b[0mhsp\u001b[0m \u001b[0;32min\u001b[0m \u001b[0malignment\u001b[0m\u001b[0;34m.\u001b[0m\u001b[0mhsps\u001b[0m\u001b[0;34m:\u001b[0m\u001b[0;34m\u001b[0m\u001b[0;34m\u001b[0m\u001b[0m\n",
      "\u001b[0;31mTypeError\u001b[0m: '_XMLparser' object is not iterable"
     ]
    }
   ],
   "source": [
    "E_VALUE_THRESH = 0.00000000001 \n",
    "count = 0\n",
    "for record in blast_record:\n",
    "    for alignment in blast_record.alignment:\n",
    "        for hsp in alignment.hsps:\n",
    "            if hsp.expect < E_VALUE_THRESH:\n",
    "                count += 1\n",
    "                print(\"****Alignment****\")\n",
    "                print(\"sequence:\", alignment.title)\n",
    "                print(\"length:\", alignment.length)\n",
    "                print(hsp.query[0:75] + \"...\")\n",
    "                print(hsp.match[0:75] + \"...\")\n",
    "                print(hsp.sbjct[0:75] + \"...\")\n",
    "                print()\n",
    "                \n",
    "print(f\"There are {count} similar sequences in Blast output\")"
   ]
  }
 ],
 "metadata": {
  "kernelspec": {
   "display_name": "Python 3 (ipykernel)",
   "language": "python",
   "name": "python3"
  },
  "language_info": {
   "codemirror_mode": {
    "name": "ipython",
    "version": 3
   },
   "file_extension": ".py",
   "mimetype": "text/x-python",
   "name": "python",
   "nbconvert_exporter": "python",
   "pygments_lexer": "ipython3",
   "version": "3.9.7"
  }
 },
 "nbformat": 4,
 "nbformat_minor": 5
}
