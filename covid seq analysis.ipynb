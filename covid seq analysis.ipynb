{
 "cells": [
  {
   "cell_type": "code",
   "execution_count": 1,
   "id": "c7b1eaf6",
   "metadata": {},
   "outputs": [],
   "source": [
    "from Bio import Entrez, SeqIO\n",
    "Entrez.email = \"\" \n",
    "handle = Entrez.efetch(db=\"nucleotide\", id=\"MN908947\", rettype=\"gb\", retmode=\"text\")\n",
    "recs = list(SeqIO.parse(handle, 'gb'))\n",
    "handle.close()"
   ]
  },
  {
   "cell_type": "code",
   "execution_count": 2,
   "id": "afa53fc8",
   "metadata": {},
   "outputs": [
    {
     "data": {
      "text/plain": [
       "[SeqRecord(seq=Seq('ATTAAAGGTTTATACCTTCCCAGGTAACAAACCAACCAACTTTCGATCTCTTGT...AAA'), id='MN908947.3', name='MN908947', description='Severe acute respiratory syndrome coronavirus 2 isolate Wuhan-Hu-1, complete genome', dbxrefs=[])]"
      ]
     },
     "execution_count": 2,
     "metadata": {},
     "output_type": "execute_result"
    }
   ],
   "source": [
    "recs"
   ]
  },
  {
   "cell_type": "code",
   "execution_count": 3,
   "id": "4024d080",
   "metadata": {},
   "outputs": [],
   "source": [
    "covid_dna = recs[0].seq"
   ]
  },
  {
   "cell_type": "code",
   "execution_count": 4,
   "id": "e027ad84",
   "metadata": {},
   "outputs": [
    {
     "data": {
      "text/plain": [
       "Seq('ATTAAAGGTTTATACCTTCCCAGGTAACAAACCAACCAACTTTCGATCTCTTGT...AAA')"
      ]
     },
     "execution_count": 4,
     "metadata": {},
     "output_type": "execute_result"
    }
   ],
   "source": [
    "covid_dna"
   ]
  },
  {
   "cell_type": "code",
   "execution_count": 5,
   "id": "e6d746c3",
   "metadata": {},
   "outputs": [
    {
     "name": "stdout",
     "output_type": "stream",
     "text": [
      "The genome of Covid-19 consists of 29903 nucleotides.\n"
     ]
    }
   ],
   "source": [
    "print(f'The genome of Covid-19 consists of {len(covid_dna)} nucleotides.')"
   ]
  },
  {
   "cell_type": "code",
   "execution_count": 6,
   "id": "c7d46b85",
   "metadata": {},
   "outputs": [
    {
     "data": {
      "text/plain": [
       "9241219.214400413"
      ]
     },
     "execution_count": 6,
     "metadata": {},
     "output_type": "execute_result"
    }
   ],
   "source": [
    "# molecular weight\n",
    "from Bio.SeqUtils import molecular_weight\n",
    "molecular_weight(covid_dna)"
   ]
  },
  {
   "cell_type": "code",
   "execution_count": 7,
   "id": "516dd02b",
   "metadata": {},
   "outputs": [
    {
     "data": {
      "text/plain": [
       "37.97277865097148"
      ]
     },
     "execution_count": 7,
     "metadata": {},
     "output_type": "execute_result"
    }
   ],
   "source": [
    "# GC content - higher GC content implies more stable molecule due to G and C forming triple hydrogen bonds\n",
    "from Bio.SeqUtils import GC\n",
    "GC(covid_dna)"
   ]
  },
  {
   "cell_type": "code",
   "execution_count": null,
   "id": "dce20ca5",
   "metadata": {},
   "outputs": [],
   "source": []
  },
  {
   "cell_type": "code",
   "execution_count": 9,
   "id": "871e3c4c",
   "metadata": {},
   "outputs": [],
   "source": [
    "count_nucleotides = {\n",
    "    'A': covid_dna.count('A'),\n",
    "    'T': covid_dna.count('T'),\n",
    "    'C': covid_dna.count('C'),\n",
    "    'G': covid_dna.count('G')\n",
    "}"
   ]
  },
  {
   "cell_type": "code",
   "execution_count": 10,
   "id": "e41166af",
   "metadata": {},
   "outputs": [
    {
     "data": {
      "text/plain": [
       "{'A': 8954, 'T': 9594, 'C': 5492, 'G': 5863}"
      ]
     },
     "execution_count": 10,
     "metadata": {},
     "output_type": "execute_result"
    }
   ],
   "source": [
    "count_nucleotides"
   ]
  },
  {
   "cell_type": "code",
   "execution_count": 11,
   "id": "50285ea3",
   "metadata": {},
   "outputs": [
    {
     "data": {
      "text/plain": [
       "Text(0.5, 1.0, 'Nucleotide Frequency')"
      ]
     },
     "execution_count": 11,
     "metadata": {},
     "output_type": "execute_result"
    },
    {
     "data": {
      "image/png": "[encoded data removed]",
      "text/plain": [
       "<Figure size 432x288 with 1 Axes>"
      ]
     },
     "metadata": {
      "needs_background": "light"
     },
     "output_type": "display_data"
    }
   ],
   "source": [
    "import matplotlib.pyplot as plt\n",
    "width = 0.5\n",
    "plt.bar(count_nucleotides.keys(), count_nucleotides.values(), width, color=['b', 'r', 'm', 'c'])\n",
    "plt.xlabel('Nucleotide')\n",
    "plt.ylabel('Frequency')\n",
    "plt.title('Nucleotide Frequency')"
   ]
  },
  {
   "cell_type": "code",
   "execution_count": 12,
   "id": "10c2d839",
   "metadata": {},
   "outputs": [
    {
     "data": {
      "text/plain": [
       "Seq('AUUAAAGGUUUAUACCUUCCCAGGUAACAAACCAACCAACUUUCGAUCUCUUGU...AAA')"
      ]
     },
     "execution_count": 12,
     "metadata": {},
     "output_type": "execute_result"
    }
   ],
   "source": [
    "covid_mrna = covid_dna.transcribe()\n",
    "covid_mrna"
   ]
  },
  {
   "cell_type": "code",
   "execution_count": 13,
   "id": "42f54d2e",
   "metadata": {},
   "outputs": [
    {
     "name": "stderr",
     "output_type": "stream",
     "text": [
      "/home/user/anaconda3/lib/python3.9/site-packages/Bio/Seq.py:2979: BiopythonWarning: Partial codon, len(sequence) not a multiple of three. Explicitly trim the sequence or add trailing N before translation. This may become an error in future.\n",
      "  warnings.warn(\n"
     ]
    },
    {
     "data": {
      "text/plain": [
       "Seq('IKGLYLPR*QTNQLSISCRSVL*TNFKICVAVTRLHA*CTHAV*LITNYCR*QD...KKK')"
      ]
     },
     "execution_count": 13,
     "metadata": {},
     "output_type": "execute_result"
    }
   ],
   "source": [
    "covid_aa = covid_mrna.translate()\n",
    "covid_aa"
   ]
  },
  {
   "cell_type": "code",
   "execution_count": 14,
   "id": "27f07ce4",
   "metadata": {},
   "outputs": [
    {
     "data": {
      "text/plain": [
       "[('L', 886),\n",
       " ('S', 810),\n",
       " ('*', 774),\n",
       " ('T', 679),\n",
       " ('C', 635),\n",
       " ('F', 593),\n",
       " ('R', 558),\n",
       " ('V', 548),\n",
       " ('Y', 505),\n",
       " ('N', 472)]"
      ]
     },
     "execution_count": 14,
     "metadata": {},
     "output_type": "execute_result"
    }
   ],
   "source": [
    "#most common amino acids\n",
    "from collections import Counter\n",
    "common_amino = Counter(covid_aa)\n",
    "common_amino.most_common(10)"
   ]
  },
  {
   "cell_type": "code",
   "execution_count": 15,
   "id": "f6a9cf2a",
   "metadata": {},
   "outputs": [
    {
     "data": {
      "text/plain": [
       "Text(0.5, 1.0, 'Protein Sequence Frequency')"
      ]
     },
     "execution_count": 15,
     "metadata": {},
     "output_type": "execute_result"
    },
    {
     "data": {
      "image/png": "[encoded data removed]",
      "text/plain": [
       "<Figure size 432x288 with 1 Axes>"
      ]
     },
     "metadata": {
      "needs_background": "light"
     },
     "output_type": "display_data"
    }
   ],
   "source": [
    "del common_amino['*']\n",
    "\n",
    "width = 0.5\n",
    "plt.bar(common_amino.keys(), common_amino.values(), width, color=['b', 'r', 'm', 'c'])\n",
    "plt.xlabel('Amino Acid')\n",
    "plt.ylabel('Frequency')\n",
    "plt.title('Protein Sequence Frequency')"
   ]
  },
  {
   "cell_type": "code",
   "execution_count": 16,
   "id": "beb78af8",
   "metadata": {},
   "outputs": [
    {
     "name": "stdout",
     "output_type": "stream",
     "text": [
      "Covid-19's genome has 9193 amino acids\n"
     ]
    }
   ],
   "source": [
    "print(f\"Covid-19's genome has {sum(common_amino.values())} amino acids\")"
   ]
  },
  {
   "cell_type": "code",
   "execution_count": null,
   "id": "16d0d929",
   "metadata": {},
   "outputs": [],
   "source": []
  },
  {
   "cell_type": "code",
   "execution_count": 17,
   "id": "eca18289",
   "metadata": {},
   "outputs": [],
   "source": [
    "proteins = covid_aa.split('*')"
   ]
  },
  {
   "cell_type": "code",
   "execution_count": 18,
   "id": "757086fd",
   "metadata": {},
   "outputs": [
    {
     "data": {
      "text/plain": [
       "[Seq('IKGLYLPR'),\n",
       " Seq('QTNQLSISCRSVL'),\n",
       " Seq('TNFKICVAVTRLHA'),\n",
       " Seq('CTHAV'),\n",
       " Seq('LITNYCR')]"
      ]
     },
     "execution_count": 18,
     "metadata": {},
     "output_type": "execute_result"
    }
   ],
   "source": [
    "proteins[:5]"
   ]
  },
  {
   "cell_type": "code",
   "execution_count": 19,
   "id": "df961d3e",
   "metadata": {},
   "outputs": [
    {
     "name": "stdout",
     "output_type": "stream",
     "text": [
      "We have 775 amino acids in the covid-19 genome\n"
     ]
    }
   ],
   "source": [
    "print(f'We have {len(proteins)} amino acids in the covid-19 genome')"
   ]
  },
  {
   "cell_type": "code",
   "execution_count": 20,
   "id": "6ed76099",
   "metadata": {},
   "outputs": [],
   "source": [
    "for protein in proteins:\n",
    "    if len(protein) < 20:\n",
    "        proteins.remove(protein)"
   ]
  },
  {
   "cell_type": "code",
   "execution_count": 21,
   "id": "c1f88d8f",
   "metadata": {},
   "outputs": [
    {
     "name": "stdout",
     "output_type": "stream",
     "text": [
      "We have 409 proteins with more than 20 amino acids in the covid-19 genome\n"
     ]
    }
   ],
   "source": [
    "print(f'We have {len(proteins)} proteins with more than 20 amino acids in the covid-19 genome')"
   ]
  },
  {
   "cell_type": "code",
   "execution_count": 23,
   "id": "1ee12a3c",
   "metadata": {},
   "outputs": [],
   "source": [
    "top_5_proteins = sorted(proteins, key = len)"
   ]
  },
  {
   "cell_type": "code",
   "execution_count": 25,
   "id": "c3425cfc",
   "metadata": {},
   "outputs": [
    {
     "data": {
      "text/plain": [
       "Seq('CTIVFKRVCGVSAARLTPCGTGTSTDVVYRAFDIYNDKVAGFAKFLKTNCCRFQ...VNN')"
      ]
     },
     "execution_count": 25,
     "metadata": {},
     "output_type": "execute_result"
    }
   ],
   "source": [
    "top_5_proteins[-1]"
   ]
  },
  {
   "cell_type": "code",
   "execution_count": 26,
   "id": "e6dca9a8",
   "metadata": {},
   "outputs": [
    {
     "data": {
      "text/plain": [
       "2701"
      ]
     },
     "execution_count": 26,
     "metadata": {},
     "output_type": "execute_result"
    }
   ],
   "source": [
    "len(top_5_proteins[-1])"
   ]
  },
  {
   "cell_type": "code",
   "execution_count": 29,
   "id": "7f6020e7",
   "metadata": {},
   "outputs": [],
   "source": [
    "with open(\"protein_seq.fasta\", \"w\") as file:\n",
    "    file.write(f\">covid protein\\n{top_5_proteins[-1]}\")"
   ]
  },
  {
   "cell_type": "code",
   "execution_count": null,
   "id": "8127c2b1",
   "metadata": {},
   "outputs": [],
   "source": []
  }
 ],
 "metadata": {
  "kernelspec": {
   "display_name": "Python 3 (ipykernel)",
   "language": "python",
   "name": "python3"
  },
  "language_info": {
   "codemirror_mode": {
    "name": "ipython",
    "version": 3
   },
   "file_extension": ".py",
   "mimetype": "text/x-python",
   "name": "python",
   "nbconvert_exporter": "python",
   "pygments_lexer": "ipython3",
   "version": "3.9.7"
  }
 },
 "nbformat": 4,
 "nbformat_minor": 5
}
