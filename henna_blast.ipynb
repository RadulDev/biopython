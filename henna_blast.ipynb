{
 "cells": [
  {
   "cell_type": "code",
   "execution_count": 2,
   "id": "b1136362",
   "metadata": {},
   "outputs": [
    {
     "name": "stdout",
     "output_type": "stream",
     "text": [
      "\n",
      "\n",
      "query: No definition line\n",
      "match: gi|123994510|gb|DQ893931.2| Synthetic construct Homo sapiens clone IMAGE:100008391; FLH165815.01L; R \n",
      "match: gi|30585200|gb|BT008181.1| Synthetic construct Homo sapiens TAR (HIV) RNA binding protein 2 mRNA, pa \n",
      "match: gi|1849016577|ref|XM_003831011.5| PREDICTED: Pan paniscus TARBP2 subunit of RISC loading complex (TA \n",
      "match: gi|1653961969|ref|NM_134323.2| Homo sapiens TARBP2 subunit of RISC loading complex (TARBP2), transcr \n",
      "match: gi|1034095733|ref|XM_003313655.3| PREDICTED: Pan troglodytes TARBP2, RISC loading complex RNA bindin \n",
      "match: gi|649103641|gb|KJ892251.1| Synthetic construct Homo sapiens clone ccsbBroadEn_01645 TARBP2 gene, en \n",
      "match: gi|123993746|gb|DQ893549.2| Synthetic construct clone IMAGE:100006179; FLH165819.01X; RZPDo839H02160 \n",
      "match: gi|30583118|gb|BT007140.1| Homo sapiens TAR (HIV) RNA binding protein 2 mRNA, complete cds >gi|60656 \n",
      "match: gi|33988191|gb|BC005860.2| Homo sapiens TAR (HIV-1) RNA binding protein 2, mRNA (cDNA clone MGC:3390 \n",
      "match: gi|208967914|dbj|AB464283.1| Synthetic construct DNA, clone: pF1KB6531, Homo sapiens TARBP2 gene for \n",
      "match: gi|158254909|dbj|AK290737.1| Homo sapiens cDNA FLJ75669 complete cds, highly similar to Homo sapiens \n",
      "match: gi|7412847|gb|U08998.2|HSU08998 Homo sapiens TAR RNA binding protein 2 (TRBP2) mRNA, complete cds \n",
      "match: gi|1849016579|ref|XM_008956400.3| PREDICTED: Pan paniscus TARBP2 subunit of RISC loading complex (TA \n",
      "match: gi|1820555334|ref|XM_032173595.2| PREDICTED: Hylobates moloch TARBP2 subunit of RISC loading complex \n",
      "match: gi|1743146444|ref|XM_004093049.3| PREDICTED: Nomascus leucogenys TARBP2 subunit of RISC loading comp \n",
      "match: gi|1351413423|ref|XM_024256682.1| PREDICTED: Pongo abelii TARBP2, RISC loading complex RNA binding s \n",
      "match: gi|1099123205|ref|XM_004053236.2| PREDICTED: Gorilla gorilla gorilla TARBP2 subunit of RISC loading  \n",
      "match: gi|1034095735|ref|XM_009425268.2| PREDICTED: Pan troglodytes TARBP2, RISC loading complex RNA bindin \n",
      "match: gi|530400758|ref|XM_005269114.1| PREDICTED: Homo sapiens TARBP2 subunit of RISC loading complex (TAR \n",
      "match: gi|1800017422|ref|XM_032173597.1| PREDICTED: Hylobates moloch TARBP2 subunit of RISC loading complex \n",
      "match: gi|1743146448|ref|XM_030822562.1| PREDICTED: Nomascus leucogenys TARBP2 subunit of RISC loading comp \n",
      "match: gi|1351413427|ref|XM_024256683.1| PREDICTED: Pongo abelii TARBP2, RISC loading complex RNA binding s \n",
      "match: gi|1788673278|ref|XM_023210976.2| PREDICTED: Piliocolobus tephrosceles TARBP2 subunit of RISC loadin \n",
      "match: gi|1381489837|ref|XM_011728805.2| PREDICTED: Macaca nemestrina TARBP2, RISC loading complex RNA bind \n",
      "match: gi|795535886|ref|XM_012048065.1| PREDICTED: Cercocebus atys TAR (HIV-1) RNA binding protein 2 (TARBP \n",
      "match: gi|795535882|ref|XM_012048064.1| PREDICTED: Cercocebus atys TAR (HIV-1) RNA binding protein 2 (TARBP \n",
      "match: gi|795535878|ref|XM_012048063.1| PREDICTED: Cercocebus atys TAR (HIV-1) RNA binding protein 2 (TARBP \n",
      "match: gi|795200381|ref|XM_011992569.1| PREDICTED: Mandrillus leucophaeus TAR (HIV-1) RNA binding protein 2 \n",
      "match: gi|1825857628|ref|XM_033221901.1| PREDICTED: Trachypithecus francoisi TARBP2 subunit of RISC loading \n",
      "match: gi|1059109430|ref|XM_017850997.1| PREDICTED: Rhinopithecus bieti TARBP2, RISC loading complex RNA bi \n",
      "match: gi|1777349225|ref|XM_003906460.5| PREDICTED: Papio anubis TARBP2 subunit of RISC loading complex (TA \n",
      "match: gi|1751191914|ref|XM_010373896.2| PREDICTED: Rhinopithecus roxellana TARBP2 subunit of RISC loading  \n",
      "match: gi|1411095206|ref|XM_025403272.1| PREDICTED: Theropithecus gelada TARBP2, RISC loading complex RNA b \n",
      "match: gi|2161819438|ref|XM_005571030.3| PREDICTED: Macaca fascicularis TARBP2 subunit of RISC loading comp \n",
      "match: gi|1938820956|ref|XM_008003426.2| PREDICTED: Chlorocebus sabaeus TARBP2 subunit of RISC loading comp \n",
      "match: gi|1622845257|ref|XM_015151872.2| PREDICTED: Macaca mulatta TARBP2 subunit of RISC loading complex ( \n",
      "match: gi|1788673279|ref|XM_023210978.2| PREDICTED: Piliocolobus tephrosceles TARBP2 subunit of RISC loadin \n",
      "match: gi|795602364|ref|XM_011728807.1| PREDICTED: Macaca nemestrina TARBP2, RISC loading complex RNA bindi \n",
      "match: gi|795535892|ref|XM_012048067.1| PREDICTED: Cercocebus atys TAR (HIV-1) RNA binding protein 2 (TARBP \n",
      "match: gi|1825857632|ref|XM_033221903.1| PREDICTED: Trachypithecus francoisi TARBP2 subunit of RISC loading \n",
      "match: gi|1059109434|ref|XM_017850999.1| PREDICTED: Rhinopithecus bieti TARBP2, RISC loading complex RNA bi \n",
      "match: gi|1751191916|ref|XM_010373898.2| PREDICTED: Rhinopithecus roxellana TARBP2 subunit of RISC loading  \n",
      "match: gi|685572720|ref|XM_009180837.1| PREDICTED: Papio anubis TARBP2 subunit of RISC loading complex (TAR \n",
      "match: gi|2161819441|ref|XM_005571032.3| PREDICTED: Macaca fascicularis TARBP2 subunit of RISC loading comp \n",
      "match: gi|1938820958|ref|XM_008003428.2| PREDICTED: Chlorocebus sabaeus TARBP2 subunit of RISC loading comp \n",
      "match: gi|1849016578|ref|XM_008956399.3| PREDICTED: Pan paniscus TARBP2 subunit of RISC loading complex (TA \n",
      "match: gi|1675016536|ref|NM_134324.3| Homo sapiens TARBP2 subunit of RISC loading complex (TARBP2), transcr \n",
      "match: gi|1367152748|ref|XM_003313656.5| PREDICTED: Pan troglodytes TARBP2, RISC loading complex RNA bindin \n",
      "match: gi|1622845261|ref|XM_015151875.2| PREDICTED: Macaca mulatta TARBP2 subunit of RISC loading complex ( \n",
      "match: gi|795359853|ref|XM_011930499.1| PREDICTED: Colobus angolensis palliatus TAR (HIV-1) RNA binding pro \n"
     ]
    }
   ],
   "source": [
    "from Bio import SeqIO\n",
    "from Bio.Blast import NCBIWWW , NCBIXML\n",
    "my_query = SeqIO.read(\"sequence.fasta\" , format = \"fasta\")\n",
    "result = NCBIWWW.qblast(\"blastn\" , \"nt\" , my_query.seq)\n",
    "blast_result = open(\"my_blast.xml\" , \"w\")\n",
    "blast_result.write(result.read())\n",
    "blast_result.close()\n",
    "result.close()\n",
    "\n",
    "E_VALUE_THRESH = 1e-10\n",
    "for record in NCBIXML.parse(open(\"my_blast.xml\")):\n",
    "    if record.alignments:\n",
    "        print(\"\\n\")\n",
    "        print(\"query: %s\" % record.query[:100])\n",
    "        for align in record.alignments:\n",
    "            for hsp in align.hsps:\n",
    "                if hsp.expect < E_VALUE_THRESH:\n",
    "                    print(\"match: %s \" % align.title[:100])\n",
    "            "
   ]
  },
  {
   "cell_type": "code",
   "execution_count": null,
   "id": "a2172477",
   "metadata": {},
   "outputs": [],
   "source": []
  }
 ],
 "metadata": {
  "kernelspec": {
   "display_name": "Python 3 (ipykernel)",
   "language": "python",
   "name": "python3"
  },
  "language_info": {
   "codemirror_mode": {
    "name": "ipython",
    "version": 3
   },
   "file_extension": ".py",
   "mimetype": "text/x-python",
   "name": "python",
   "nbconvert_exporter": "python",
   "pygments_lexer": "ipython3",
   "version": "3.9.7"
  }
 },
 "nbformat": 4,
 "nbformat_minor": 5
}
