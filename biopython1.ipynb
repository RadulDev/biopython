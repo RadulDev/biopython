{
 "cells": [
  {
   "cell_type": "markdown",
   "metadata": {},
   "source": [
    "<h1>BioPython Tutorial</h1>\n",
    "<h3>importing packages.</h3>\n",
    "<p> importing biopython for seq analysis.\n",
    "imported pandas jus for fun</p>"
   ]
  },
  {
   "cell_type": "code",
   "execution_count": 15,
   "metadata": {},
   "outputs": [
    {
     "name": "stdout",
     "output_type": "stream",
     "text": [
      "pandas 1.3.4\n",
      "biopython 1.79\n"
     ]
    }
   ],
   "source": [
    "import pandas\n",
    "from Bio.Seq import Seq\n",
    "print('pandas',pandas.__version__)\n",
    "print('biopython',Bio.__version__)"
   ]
  },
  {
   "cell_type": "markdown",
   "metadata": {},
   "source": [
    "<h3>checking different objects for operation<h3>"
   ]
  },
  {
   "cell_type": "code",
   "execution_count": 16,
   "metadata": {
    "scrolled": true
   },
   "outputs": [
    {
     "data": {
      "text/plain": [
       "['__abstractmethods__',\n",
       " '__add__',\n",
       " '__bytes__',\n",
       " '__class__',\n",
       " '__contains__',\n",
       " '__delattr__',\n",
       " '__dict__',\n",
       " '__dir__',\n",
       " '__doc__',\n",
       " '__eq__',\n",
       " '__format__',\n",
       " '__ge__',\n",
       " '__getattribute__',\n",
       " '__getitem__',\n",
       " '__gt__',\n",
       " '__hash__',\n",
       " '__imul__',\n",
       " '__init__',\n",
       " '__init_subclass__',\n",
       " '__le__',\n",
       " '__len__',\n",
       " '__lt__',\n",
       " '__module__',\n",
       " '__mul__',\n",
       " '__ne__',\n",
       " '__new__',\n",
       " '__radd__',\n",
       " '__reduce__',\n",
       " '__reduce_ex__',\n",
       " '__repr__',\n",
       " '__rmul__',\n",
       " '__setattr__',\n",
       " '__sizeof__',\n",
       " '__slots__',\n",
       " '__str__',\n",
       " '__subclasshook__',\n",
       " '__weakref__',\n",
       " '_abc_impl',\n",
       " '_data',\n",
       " 'back_transcribe',\n",
       " 'complement',\n",
       " 'complement_rna',\n",
       " 'count',\n",
       " 'count_overlap',\n",
       " 'encode',\n",
       " 'endswith',\n",
       " 'find',\n",
       " 'index',\n",
       " 'join',\n",
       " 'lower',\n",
       " 'lstrip',\n",
       " 'replace',\n",
       " 'reverse_complement',\n",
       " 'reverse_complement_rna',\n",
       " 'rfind',\n",
       " 'rindex',\n",
       " 'rsplit',\n",
       " 'rstrip',\n",
       " 'split',\n",
       " 'startswith',\n",
       " 'strip',\n",
       " 'tomutable',\n",
       " 'transcribe',\n",
       " 'translate',\n",
       " 'ungap',\n",
       " 'upper']"
      ]
     },
     "execution_count": 16,
     "metadata": {},
     "output_type": "execute_result"
    }
   ],
   "source": [
    "dir(Seq)"
   ]
  },
  {
   "cell_type": "markdown",
   "metadata": {},
   "source": [
    "### defining Sequence"
   ]
  },
  {
   "cell_type": "code",
   "execution_count": 17,
   "metadata": {},
   "outputs": [
    {
     "data": {
      "text/plain": [
       "Seq('ATTTACGATTTACGATTTACGATTTACGATTTACGATTTACG')"
      ]
     },
     "execution_count": 17,
     "metadata": {},
     "output_type": "execute_result"
    }
   ],
   "source": [
    "my_seq = Seq('ATTTACGATTTACGATTTACGATTTACGATTTACGATTTACG')\n",
    "my_seq"
   ]
  },
  {
   "cell_type": "markdown",
   "metadata": {},
   "source": [
    "### finding complementory seq"
   ]
  },
  {
   "cell_type": "code",
   "execution_count": 20,
   "metadata": {},
   "outputs": [
    {
     "data": {
      "text/plain": [
       "Seq('TAAATGCTAAATGCTAAATGCTAAATGCTAAATGCTAAATGC')"
      ]
     },
     "execution_count": 20,
     "metadata": {},
     "output_type": "execute_result"
    }
   ],
   "source": [
    "compli_seq = my_seq.complement()\n",
    "compli_seq"
   ]
  },
  {
   "cell_type": "markdown",
   "metadata": {},
   "source": [
    "### finding reverse complementory seq"
   ]
  },
  {
   "cell_type": "code",
   "execution_count": 22,
   "metadata": {},
   "outputs": [
    {
     "data": {
      "text/plain": [
       "Seq('GCATTTAGCATTTAGCATTTAGCATTTAGCATTTAGCATTTA')"
      ]
     },
     "execution_count": 22,
     "metadata": {},
     "output_type": "execute_result"
    }
   ],
   "source": [
    "rev_compli = compli_seq.reverse_complement()\n",
    "rev_compli"
   ]
  },
  {
   "cell_type": "markdown",
   "metadata": {},
   "source": [
    "### BioIO module"
   ]
  },
  {
   "cell_type": "code",
   "execution_count": 37,
   "metadata": {},
   "outputs": [],
   "source": [
    "from Bio import SeqIO"
   ]
  },
  {
   "cell_type": "markdown",
   "metadata": {},
   "source": [
    "reading fasta file"
   ]
  },
  {
   "cell_type": "code",
   "execution_count": 68,
   "metadata": {
    "scrolled": true
   },
   "outputs": [
    {
     "name": "stdout",
     "output_type": "stream",
     "text": [
      "ID: gi|2765658|emb|Z78533.1|CIZ78533\n",
      "Name: gi|2765658|emb|Z78533.1|CIZ78533\n",
      "Description: gi|2765658|emb|Z78533.1|CIZ78533 C.irapeanum 5.8S rRNA gene and ITS1 and ITS2 DNA\n",
      "Number of features: 0\n",
      "Seq('CGTAACAAGGTTTCCGTAGGTGAACCTGCGGAAGGATCATTGATGAGACCGTGG...GGG')\n",
      "***************\n",
      "gene id:  gi|2765658|emb|Z78533.1|CIZ78533\n",
      "name :  gi|2765658|emb|Z78533.1|CIZ78533\n",
      "Description:  gi|2765658|emb|Z78533.1|CIZ78533 C.irapeanum 5.8S rRNA gene and ITS1 and ITS2 DNA\n",
      "features:  []\n",
      "sequence:  CGTAACAAGGTTTCCGTAGGTGAACCTGCGGAAGGATCATTGATGAGACCGTGGAATAAACGATCGAGTGAATCCGGAGGACCGGTGTACTCAGCTCACCGGGGGCATTGCTCCCGTGGTGACCCTGATTTGTTGTTGGG\n"
     ]
    }
   ],
   "source": [
    "record = SeqIO.read(\"seq.fasta\", \"fasta\")\n",
    "print(record)\n",
    "print(\"***************\")\n",
    "print(\"gene id: \",record.id)\n",
    "print(\"name : \",record.name)\n",
    "print(\"Description: \",record.description)\n",
    "print(\"features: \",record.features)\n",
    "print(\"sequence: \",record.seq)"
   ]
  },
  {
   "cell_type": "code",
   "execution_count": 67,
   "metadata": {},
   "outputs": [
    {
     "name": "stdout",
     "output_type": "stream",
     "text": [
      "{}\n",
      "0\n",
      "[]\n"
     ]
    }
   ],
   "source": [
    "print(record.letter_annotations)\n",
    "print(len(record.annotations))\n",
    "# print(record.annotations[\"seq.fasta\"])\n",
    "print(record.dbxrefs)"
   ]
  },
  {
   "cell_type": "markdown",
   "metadata": {},
   "source": [
    "### Feature, location and position objects"
   ]
  },
  {
   "cell_type": "code",
   "execution_count": 83,
   "metadata": {},
   "outputs": [
    {
     "name": "stdout",
     "output_type": "stream",
     "text": [
      ">2 (4^5)\n"
     ]
    }
   ],
   "source": [
    "from Bio import SeqFeature\n",
    "start_pos = SeqFeature.AfterPosition(2)\n",
    "end_pos = SeqFeature.BetweenPosition(5, left=4,right=5)\n",
    "print(start_pos, end_pos)"
   ]
  }
 ],
 "metadata": {
  "kernelspec": {
   "display_name": "Python 3 (ipykernel)",
   "language": "python",
   "name": "python3"
  },
  "language_info": {
   "codemirror_mode": {
    "name": "ipython",
    "version": 3
   },
   "file_extension": ".py",
   "mimetype": "text/x-python",
   "name": "python",
   "nbconvert_exporter": "python",
   "pygments_lexer": "ipython3",
   "version": "3.9.7"
  }
 },
 "nbformat": 4,
 "nbformat_minor": 2
}
