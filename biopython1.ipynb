{
 "cells": [
  {
   "cell_type": "markdown",
   "metadata": {},
   "source": [
    "<h1>BioPython Tutorial</h1>\n",
    "<h3>importing packages.</h3>\n",
    "<p> importing biopython for seq analysis.\n",
    "imported pandas jus for fun</p>"
   ]
  },
  {
   "cell_type": "code",
   "execution_count": 8,
   "metadata": {},
   "outputs": [
    {
     "name": "stdout",
     "output_type": "stream",
     "text": [
      "pandas 1.3.4\n",
      "biopython 1.79\n"
     ]
    }
   ],
   "source": [
    "import pandas\n",
    "import Bio\n",
    "from Bio.Seq import Seq\n",
    "print('pandas',pandas.__version__)\n",
    "print('biopython',Bio.__version__)"
   ]
  },
  {
   "cell_type": "markdown",
   "metadata": {},
   "source": [
    "<h3>checking different objects for operation<h3>"
   ]
  },
  {
   "cell_type": "code",
   "execution_count": 9,
   "metadata": {
    "scrolled": true
   },
   "outputs": [
    {
     "data": {
      "text/plain": [
       "['__abstractmethods__',\n",
       " '__add__',\n",
       " '__bytes__',\n",
       " '__class__',\n",
       " '__contains__',\n",
       " '__delattr__',\n",
       " '__dict__',\n",
       " '__dir__',\n",
       " '__doc__',\n",
       " '__eq__',\n",
       " '__format__',\n",
       " '__ge__',\n",
       " '__getattribute__',\n",
       " '__getitem__',\n",
       " '__gt__',\n",
       " '__hash__',\n",
       " '__imul__',\n",
       " '__init__',\n",
       " '__init_subclass__',\n",
       " '__le__',\n",
       " '__len__',\n",
       " '__lt__',\n",
       " '__module__',\n",
       " '__mul__',\n",
       " '__ne__',\n",
       " '__new__',\n",
       " '__radd__',\n",
       " '__reduce__',\n",
       " '__reduce_ex__',\n",
       " '__repr__',\n",
       " '__rmul__',\n",
       " '__setattr__',\n",
       " '__sizeof__',\n",
       " '__slots__',\n",
       " '__str__',\n",
       " '__subclasshook__',\n",
       " '__weakref__',\n",
       " '_abc_impl',\n",
       " '_data',\n",
       " 'back_transcribe',\n",
       " 'complement',\n",
       " 'complement_rna',\n",
       " 'count',\n",
       " 'count_overlap',\n",
       " 'encode',\n",
       " 'endswith',\n",
       " 'find',\n",
       " 'index',\n",
       " 'join',\n",
       " 'lower',\n",
       " 'lstrip',\n",
       " 'replace',\n",
       " 'reverse_complement',\n",
       " 'reverse_complement_rna',\n",
       " 'rfind',\n",
       " 'rindex',\n",
       " 'rsplit',\n",
       " 'rstrip',\n",
       " 'split',\n",
       " 'startswith',\n",
       " 'strip',\n",
       " 'tomutable',\n",
       " 'transcribe',\n",
       " 'translate',\n",
       " 'ungap',\n",
       " 'upper']"
      ]
     },
     "execution_count": 9,
     "metadata": {},
     "output_type": "execute_result"
    }
   ],
   "source": [
    "dir(Seq)"
   ]
  },
  {
   "cell_type": "markdown",
   "metadata": {},
   "source": [
    "### defining Sequence"
   ]
  },
  {
   "cell_type": "code",
   "execution_count": 10,
   "metadata": {},
   "outputs": [
    {
     "data": {
      "text/plain": [
       "Seq('ATTTACGATTTACGATTTACGATTTACGATTTACGATTTACG')"
      ]
     },
     "execution_count": 10,
     "metadata": {},
     "output_type": "execute_result"
    }
   ],
   "source": [
    "my_seq = Seq('ATTTACGATTTACGATTTACGATTTACGATTTACGATTTACG')\n",
    "my_seq"
   ]
  },
  {
   "cell_type": "markdown",
   "metadata": {},
   "source": [
    "### finding complementory seq"
   ]
  },
  {
   "cell_type": "code",
   "execution_count": 11,
   "metadata": {},
   "outputs": [
    {
     "data": {
      "text/plain": [
       "Seq('TAAATGCTAAATGCTAAATGCTAAATGCTAAATGCTAAATGC')"
      ]
     },
     "execution_count": 11,
     "metadata": {},
     "output_type": "execute_result"
    }
   ],
   "source": [
    "compli_seq = my_seq.complement()\n",
    "compli_seq"
   ]
  },
  {
   "cell_type": "markdown",
   "metadata": {},
   "source": [
    "### finding reverse complementory seq"
   ]
  },
  {
   "cell_type": "code",
   "execution_count": 12,
   "metadata": {},
   "outputs": [
    {
     "data": {
      "text/plain": [
       "Seq('GCATTTAGCATTTAGCATTTAGCATTTAGCATTTAGCATTTA')"
      ]
     },
     "execution_count": 12,
     "metadata": {},
     "output_type": "execute_result"
    }
   ],
   "source": [
    "rev_compli = compli_seq.reverse_complement()\n",
    "rev_compli"
   ]
  },
  {
   "cell_type": "markdown",
   "metadata": {},
   "source": [
    "### BioIO module"
   ]
  },
  {
   "cell_type": "code",
   "execution_count": 13,
   "metadata": {},
   "outputs": [],
   "source": [
    "from Bio import SeqIO"
   ]
  },
  {
   "cell_type": "markdown",
   "metadata": {},
   "source": [
    "reading fasta file"
   ]
  },
  {
   "cell_type": "code",
   "execution_count": 14,
   "metadata": {
    "scrolled": true
   },
   "outputs": [
    {
     "name": "stdout",
     "output_type": "stream",
     "text": [
      "ID: gi|2765658|emb|Z78533.1|CIZ78533\n",
      "Name: gi|2765658|emb|Z78533.1|CIZ78533\n",
      "Description: gi|2765658|emb|Z78533.1|CIZ78533 C.irapeanum 5.8S rRNA gene and ITS1 and ITS2 DNA\n",
      "Number of features: 0\n",
      "Seq('CGTAACAAGGTTTCCGTAGGTGAACCTGCGGAAGGATCATTGATGAGACCGTGG...CGC')\n",
      "***************\n",
      "gene id:  gi|2765658|emb|Z78533.1|CIZ78533\n",
      "name :  gi|2765658|emb|Z78533.1|CIZ78533\n",
      "Description:  gi|2765658|emb|Z78533.1|CIZ78533 C.irapeanum 5.8S rRNA gene and ITS1 and ITS2 DNA\n",
      "features:  []\n",
      "sequence:  CGTAACAAGGTTTCCGTAGGTGAACCTGCGGAAGGATCATTGATGAGACCGTGGAATAAACGATCGAGTGAATCCGGAGGACCGGTGTACTCAGCTCACCGGGGGCATTGCTCCCGTGGTGACCCTGATTTGTTGTTGGGCCGCCTCGGGAGCGTCCATGGCGGGTTTGAACCTCTAGCCCGGCGCAGTTTGGGCGCCAAGCCATATGAAAGCATCACCGGCGAATGGCATTGTCTTCCCCAAAACCCGGAGCGGCGGCGTGCTGTCGCGTGCCCAATGAATTTTGATGACTCTCGCAAACGGGAATCTTGGCTCTTTGCATCGGATGGAAGGACGCAGCGAAATGCGATAAGTGGTGTGAATTGCAAGATCCCGTGAACCATCGAGTCTTTTGAACGCAAGTTGCGCCCGAGGCCATCAGGCTAAGGGCACGCCTGCTTGGGCGTCGCGCTTCGTCTCTCTCCTGCCAATGCTTGCCCGGCATACAGCCAGGCCGGCGTGGTGCGGATGTGAAAGATTGGCCCCTTGTGCCTAGGTGCGGCGGGTCCAAGAGCTGGTGTTTTGATGGCCCGGAACCCGGCAAGAGGTGGACGGATGCTGGCAGCAGCTGCCGTGCGAATCCCCCATGTTGTCGTGCTTGTCGGACAGGCAGGAGAACCCTTCCGAACCCCAATGGAGGGCGGTTGACCGCCATTCGGATGTGACCCCAGGTCAGGCGGGGGCACCCGCTGAGTTTACGC\n"
     ]
    }
   ],
   "source": [
    "record = SeqIO.read(\"seq.fasta\", \"fasta\")\n",
    "print(record)\n",
    "print(\"***************\")\n",
    "print(\"gene id: \",record.id)\n",
    "print(\"name : \",record.name)\n",
    "print(\"Description: \",record.description)\n",
    "print(\"features: \",record.features)\n",
    "print(\"sequence: \",record.seq)"
   ]
  },
  {
   "cell_type": "markdown",
   "metadata": {},
   "source": [
    "### reading multiple fasta files"
   ]
  },
  {
   "cell_type": "code",
   "execution_count": 27,
   "metadata": {},
   "outputs": [
    {
     "name": "stdout",
     "output_type": "stream",
     "text": [
      "{}\n",
      "0\n",
      "[]\n"
     ]
    }
   ],
   "source": [
    "print(record.letter_annotations)\n",
    "print(len(record.annotations))\n",
    "# print(record.annotations[\"seq.fasta\"])\n",
    "print(record.dbxrefs)"
   ]
  },
  {
   "cell_type": "code",
   "execution_count": 31,
   "metadata": {},
   "outputs": [
    {
     "name": "stdout",
     "output_type": "stream",
     "text": [
      "seq_no:  1\n",
      "gi|2765658|emb|Z78533.1|CIZ78533\n",
      "740\n",
      "seq_no:  2\n",
      "gi|2765657|emb|Z78532.1|CCZ78532\n",
      "753\n",
      "seq_no:  3\n",
      "gi|2765656|emb|Z78531.1|CFZ78531\n",
      "748\n",
      "seq_no:  4\n",
      "gi|2765655|emb|Z78530.1|CMZ78530\n",
      "744\n",
      "seq_no:  5\n",
      "gi|2765654|emb|Z78529.1|CLZ78529\n",
      "733\n",
      "seq_no:  6\n",
      "gi|2765652|emb|Z78527.1|CYZ78527\n",
      "718\n",
      "seq_no:  7\n",
      "gi|2765651|emb|Z78526.1|CGZ78526\n",
      "730\n",
      "seq_no:  8\n",
      "gi|2765650|emb|Z78525.1|CAZ78525\n",
      "704\n",
      "seq_no:  9\n",
      "gi|2765649|emb|Z78524.1|CFZ78524\n",
      "740\n",
      "seq_no:  10\n",
      "gi|2765648|emb|Z78523.1|CHZ78523\n",
      "709\n",
      "seq_no:  11\n",
      "gi|2765647|emb|Z78522.1|CMZ78522\n",
      "700\n",
      "seq_no:  12\n",
      "gi|2765646|emb|Z78521.1|CCZ78521\n",
      "726\n",
      "seq_no:  13\n",
      "gi|2765645|emb|Z78520.1|CSZ78520\n",
      "753\n",
      "seq_no:  14\n",
      "gi|2765644|emb|Z78519.1|CPZ78519\n",
      "699\n",
      "seq_no:  15\n",
      "gi|2765643|emb|Z78518.1|CRZ78518\n",
      "658\n",
      "seq_no:  16\n",
      "gi|2765642|emb|Z78517.1|CFZ78517\n",
      "752\n",
      "seq_no:  17\n",
      "gi|2765641|emb|Z78516.1|CPZ78516\n",
      "726\n",
      "seq_no:  18\n",
      "gi|2765640|emb|Z78515.1|MXZ78515\n",
      "765\n",
      "seq_no:  19\n",
      "gi|2765639|emb|Z78514.1|PSZ78514\n",
      "755\n",
      "seq_no:  20\n",
      "gi|2765638|emb|Z78513.1|PBZ78513\n",
      "742\n",
      "seq_no:  21\n",
      "gi|2765637|emb|Z78512.1|PWZ78512\n",
      "762\n",
      "seq_no:  22\n",
      "gi|2765636|emb|Z78511.1|PEZ78511\n",
      "745\n",
      "seq_no:  23\n",
      "gi|2765635|emb|Z78510.1|PCZ78510\n",
      "750\n",
      "seq_no:  24\n",
      "gi|2765634|emb|Z78509.1|PPZ78509\n",
      "731\n",
      "seq_no:  25\n",
      "gi|2765633|emb|Z78508.1|PLZ78508\n",
      "741\n",
      "seq_no:  26\n",
      "gi|2765632|emb|Z78507.1|PLZ78507\n",
      "740\n",
      "seq_no:  27\n",
      "gi|2765631|emb|Z78506.1|PLZ78506\n",
      "727\n",
      "seq_no:  28\n",
      "gi|2765630|emb|Z78505.1|PSZ78505\n",
      "711\n",
      "seq_no:  29\n",
      "gi|2765629|emb|Z78504.1|PKZ78504\n",
      "743\n",
      "seq_no:  30\n",
      "gi|2765628|emb|Z78503.1|PCZ78503\n",
      "727\n",
      "seq_no:  31\n",
      "gi|2765627|emb|Z78502.1|PBZ78502\n",
      "757\n",
      "seq_no:  32\n",
      "gi|2765626|emb|Z78501.1|PCZ78501\n",
      "770\n",
      "seq_no:  33\n",
      "gi|2765625|emb|Z78500.1|PWZ78500\n",
      "767\n",
      "seq_no:  34\n",
      "gi|2765624|emb|Z78499.1|PMZ78499\n",
      "759\n",
      "seq_no:  35\n",
      "gi|2765623|emb|Z78498.1|PMZ78498\n",
      "750\n",
      "seq_no:  36\n",
      "gi|2765622|emb|Z78497.1|PDZ78497\n",
      "788\n",
      "seq_no:  37\n",
      "gi|2765621|emb|Z78496.1|PAZ78496\n",
      "774\n",
      "seq_no:  38\n",
      "gi|2765620|emb|Z78495.1|PEZ78495\n",
      "789\n",
      "seq_no:  39\n",
      "gi|2765619|emb|Z78494.1|PNZ78494\n",
      "688\n",
      "seq_no:  40\n",
      "gi|2765618|emb|Z78493.1|PGZ78493\n",
      "719\n",
      "seq_no:  41\n",
      "gi|2765617|emb|Z78492.1|PBZ78492\n",
      "743\n",
      "seq_no:  42\n",
      "gi|2765616|emb|Z78491.1|PCZ78491\n",
      "737\n",
      "seq_no:  43\n",
      "gi|2765615|emb|Z78490.1|PFZ78490\n",
      "728\n",
      "seq_no:  44\n",
      "gi|2765614|emb|Z78489.1|PDZ78489\n",
      "740\n",
      "seq_no:  45\n",
      "gi|2765613|emb|Z78488.1|PTZ78488\n",
      "696\n",
      "seq_no:  46\n",
      "gi|2765612|emb|Z78487.1|PHZ78487\n",
      "732\n",
      "seq_no:  47\n",
      "gi|2765611|emb|Z78486.1|PBZ78486\n",
      "731\n",
      "seq_no:  48\n",
      "gi|2765610|emb|Z78485.1|PHZ78485\n",
      "735\n",
      "seq_no:  49\n",
      "gi|2765609|emb|Z78484.1|PCZ78484\n",
      "720\n",
      "seq_no:  50\n",
      "gi|2765608|emb|Z78483.1|PVZ78483\n",
      "740\n",
      "seq_no:  51\n",
      "gi|2765607|emb|Z78482.1|PEZ78482\n",
      "629\n",
      "seq_no:  52\n",
      "gi|2765606|emb|Z78481.1|PIZ78481\n",
      "572\n",
      "seq_no:  53\n",
      "gi|2765605|emb|Z78480.1|PGZ78480\n",
      "587\n",
      "seq_no:  54\n",
      "gi|2765604|emb|Z78479.1|PPZ78479\n",
      "700\n",
      "seq_no:  55\n",
      "gi|2765603|emb|Z78478.1|PVZ78478\n",
      "636\n",
      "seq_no:  56\n",
      "gi|2765602|emb|Z78477.1|PVZ78477\n",
      "716\n",
      "seq_no:  57\n",
      "gi|2765601|emb|Z78476.1|PGZ78476\n",
      "592\n",
      "seq_no:  58\n",
      "gi|2765600|emb|Z78475.1|PSZ78475\n",
      "716\n",
      "seq_no:  59\n",
      "gi|2765599|emb|Z78474.1|PKZ78474\n",
      "733\n",
      "seq_no:  60\n",
      "gi|2765598|emb|Z78473.1|PSZ78473\n",
      "626\n",
      "seq_no:  61\n",
      "gi|2765597|emb|Z78472.1|PLZ78472\n",
      "737\n",
      "seq_no:  62\n",
      "gi|2765596|emb|Z78471.1|PDZ78471\n",
      "740\n",
      "seq_no:  63\n",
      "gi|2765595|emb|Z78470.1|PPZ78470\n",
      "574\n",
      "seq_no:  64\n",
      "gi|2765594|emb|Z78469.1|PHZ78469\n",
      "594\n",
      "seq_no:  65\n",
      "gi|2765593|emb|Z78468.1|PAZ78468\n",
      "610\n",
      "seq_no:  66\n",
      "gi|2765592|emb|Z78467.1|PSZ78467\n",
      "730\n",
      "seq_no:  67\n",
      "gi|2765591|emb|Z78466.1|PPZ78466\n",
      "641\n",
      "seq_no:  68\n",
      "gi|2765590|emb|Z78465.1|PRZ78465\n",
      "702\n",
      "seq_no:  69\n",
      "gi|2765589|emb|Z78464.1|PGZ78464\n",
      "733\n",
      "seq_no:  70\n",
      "gi|2765588|emb|Z78463.1|PGZ78463\n",
      "738\n",
      "seq_no:  71\n",
      "gi|2765587|emb|Z78462.1|PSZ78462\n",
      "736\n",
      "seq_no:  72\n",
      "gi|2765586|emb|Z78461.1|PWZ78461\n",
      "732\n",
      "seq_no:  73\n",
      "gi|2765585|emb|Z78460.1|PCZ78460\n",
      "745\n",
      "seq_no:  74\n",
      "gi|2765584|emb|Z78459.1|PDZ78459\n",
      "744\n",
      "seq_no:  75\n",
      "gi|2765583|emb|Z78458.1|PHZ78458\n",
      "738\n",
      "seq_no:  76\n",
      "gi|2765582|emb|Z78457.1|PCZ78457\n",
      "739\n",
      "seq_no:  77\n",
      "gi|2765581|emb|Z78456.1|PTZ78456\n",
      "740\n",
      "seq_no:  78\n",
      "gi|2765580|emb|Z78455.1|PJZ78455\n",
      "745\n",
      "seq_no:  79\n",
      "gi|2765579|emb|Z78454.1|PFZ78454\n",
      "695\n",
      "seq_no:  80\n",
      "gi|2765578|emb|Z78453.1|PSZ78453\n",
      "745\n",
      "seq_no:  81\n",
      "gi|2765577|emb|Z78452.1|PBZ78452\n",
      "743\n",
      "seq_no:  82\n",
      "gi|2765576|emb|Z78451.1|PHZ78451\n",
      "730\n",
      "seq_no:  83\n",
      "gi|2765575|emb|Z78450.1|PPZ78450\n",
      "706\n",
      "seq_no:  84\n",
      "gi|2765574|emb|Z78449.1|PMZ78449\n",
      "744\n",
      "seq_no:  85\n",
      "gi|2765573|emb|Z78448.1|PAZ78448\n",
      "742\n",
      "seq_no:  86\n",
      "gi|2765572|emb|Z78447.1|PVZ78447\n",
      "694\n",
      "seq_no:  87\n",
      "gi|2765571|emb|Z78446.1|PAZ78446\n",
      "712\n",
      "seq_no:  88\n",
      "gi|2765570|emb|Z78445.1|PUZ78445\n",
      "715\n",
      "seq_no:  89\n",
      "gi|2765569|emb|Z78444.1|PAZ78444\n",
      "688\n",
      "seq_no:  90\n",
      "gi|2765568|emb|Z78443.1|PLZ78443\n",
      "784\n",
      "seq_no:  91\n",
      "gi|2765567|emb|Z78442.1|PBZ78442\n",
      "721\n",
      "seq_no:  92\n",
      "gi|2765566|emb|Z78441.1|PSZ78441\n",
      "703\n",
      "seq_no:  93\n",
      "gi|2765565|emb|Z78440.1|PPZ78440\n",
      "744\n",
      "seq_no:  94\n",
      "gi|2765564|emb|Z78439.1|PBZ78439\n",
      "592\n"
     ]
    }
   ],
   "source": [
    "i = 0\n",
    "for record_track in SeqIO.parse(\"ls_orchid.fasta\",\"fasta\"):\n",
    "    i += 1\n",
    "    print(\"seq_no: \",i)\n",
    "#     print(record_track)\n",
    "#     print(record_track.seq)\n",
    "    print(record_track.name)\n",
    "    print(len(record_track))\n",
    "    "
   ]
  },
  {
   "cell_type": "code",
   "execution_count": 29,
   "metadata": {},
   "outputs": [
    {
     "name": "stdout",
     "output_type": "stream",
     "text": [
      "gi|2765564|emb|Z78439.1|PBZ78439\n"
     ]
    }
   ],
   "source": [
    "print(record_track.id)"
   ]
  },
  {
   "cell_type": "markdown",
   "metadata": {},
   "source": [
    "### Feature, location and position objects"
   ]
  },
  {
   "cell_type": "code",
   "execution_count": 18,
   "metadata": {},
   "outputs": [
    {
     "name": "stdout",
     "output_type": "stream",
     "text": [
      ">2 (4^5)\n"
     ]
    }
   ],
   "source": [
    "from Bio import SeqFeature\n",
    "start_pos = SeqFeature.AfterPosition(2)\n",
    "end_pos = SeqFeature.BetweenPosition(5, left=4,right=5)\n",
    "print(start_pos, end_pos)"
   ]
  },
  {
   "cell_type": "markdown",
   "metadata": {},
   "source": [
    "### string functions"
   ]
  },
  {
   "cell_type": "code",
   "execution_count": 39,
   "metadata": {},
   "outputs": [
    {
     "name": "stdout",
     "output_type": "stream",
     "text": [
      "CGTAACAAGGTTTCCGTAGGTGAACCTGCGGAAGGATCATTGATGAGACCGTGGAATAAACGATCGAGTGAATCCGGAGGACCGGTGTACTCAGCTCACCGGGGGCATTGCTCCCGTGGTGACCCTGATTTGTTGTTGGGCCGCCTCGGGAGCGTCCATGGCGGGTTTGAACCTCTAGCCCGGCGCAGTTTGGGCGCCAAGCCATATGAAAGCATCACCGGCGAATGGCATTGTCTTCCCCAAAACCCGGAGCGGCGGCGTGCTGTCGCGTGCCCAATGAATTTTGATGACTCTCGCAAACGGGAATCTTGGCTCTTTGCATCGGATGGAAGGACGCAGCGAAATGCGATAAGTGGTGTGAATTGCAAGATCCCGTGAACCATCGAGTCTTTTGAACGCAAGTTGCGCCCGAGGCCATCAGGCTAAGGGCACGCCTGCTTGGGCGTCGCGCTTCGTCTCTCTCCTGCCAATGCTTGCCCGGCATACAGCCAGGCCGGCGTGGTGCGGATGTGAAAGATTGGCCCCTTGTGCCTAGGTGCGGCGGGTCCAAGAGCTGGTGTTTTGATGGCCCGGAACCCGGCAAGAGGTGGACGGATGCTGGCAGCAGCTGCCGTGCGAATCCCCCATGTTGTCGTGCTTGTCGGACAGGCAGGAGAACCCTTCCGAACCCCAATGGAGGGCGGTTGACCGCCATTCGGATGTGACCCCAGGTCAGGCGGGGGCACCCGCTGAGTTTACGC\n"
     ]
    }
   ],
   "source": [
    "myseq = SeqIO.read('seq.fasta','fasta')\n",
    "myseq = myseq.seq\n",
    "print(myseq)"
   ]
  },
  {
   "cell_type": "code",
   "execution_count": 42,
   "metadata": {},
   "outputs": [
    {
     "data": {
      "text/plain": [
       "144"
      ]
     },
     "execution_count": 42,
     "metadata": {},
     "output_type": "execute_result"
    }
   ],
   "source": [
    "myseq.count(\"A\")"
   ]
  },
  {
   "cell_type": "code",
   "execution_count": 47,
   "metadata": {},
   "outputs": [
    {
     "name": "stdout",
     "output_type": "stream",
     "text": [
      "0 C \n",
      "1 G \n",
      "2 T \n",
      "3 A \n",
      "4 A \n",
      "5 C \n",
      "6 A \n",
      "7 A \n",
      "8 G \n",
      "9 G \n",
      "10 T \n",
      "11 T \n",
      "12 T \n",
      "13 C \n",
      "14 C \n",
      "15 G \n",
      "16 T \n",
      "17 A \n",
      "18 G \n",
      "19 G \n",
      "20 T \n",
      "21 G \n",
      "22 A \n",
      "23 A \n",
      "24 C \n",
      "25 C \n",
      "26 T \n",
      "27 G \n",
      "28 C \n",
      "29 G \n",
      "30 G \n",
      "31 A \n",
      "32 A \n",
      "33 G \n",
      "34 G \n",
      "35 A \n",
      "36 T \n",
      "37 C \n",
      "38 A \n",
      "39 T \n",
      "40 T \n",
      "41 G \n",
      "42 A \n",
      "43 T \n",
      "44 G \n",
      "45 A \n",
      "46 G \n",
      "47 A \n",
      "48 C \n",
      "49 C \n",
      "50 G \n",
      "51 T \n",
      "52 G \n",
      "53 G \n",
      "54 A \n",
      "55 A \n",
      "56 T \n",
      "57 A \n",
      "58 A \n",
      "59 A \n",
      "60 C \n",
      "61 G \n",
      "62 A \n",
      "63 T \n",
      "64 C \n",
      "65 G \n",
      "66 A \n",
      "67 G \n",
      "68 T \n",
      "69 G \n",
      "70 A \n",
      "71 A \n",
      "72 T \n",
      "73 C \n",
      "74 C \n",
      "75 G \n",
      "76 G \n",
      "77 A \n",
      "78 G \n",
      "79 G \n",
      "80 A \n",
      "81 C \n",
      "82 C \n",
      "83 G \n",
      "84 G \n",
      "85 T \n",
      "86 G \n",
      "87 T \n",
      "88 A \n",
      "89 C \n",
      "90 T \n",
      "91 C \n",
      "92 A \n",
      "93 G \n",
      "94 C \n",
      "95 T \n",
      "96 C \n",
      "97 A \n",
      "98 C \n",
      "99 C \n",
      "100 G \n",
      "101 G \n",
      "102 G \n",
      "103 G \n",
      "104 G \n",
      "105 C \n",
      "106 A \n",
      "107 T \n",
      "108 T \n",
      "109 G \n",
      "110 C \n",
      "111 T \n",
      "112 C \n",
      "113 C \n",
      "114 C \n",
      "115 G \n",
      "116 T \n",
      "117 G \n",
      "118 G \n",
      "119 T \n",
      "120 G \n",
      "121 A \n",
      "122 C \n",
      "123 C \n",
      "124 C \n",
      "125 T \n",
      "126 G \n",
      "127 A \n",
      "128 T \n",
      "129 T \n",
      "130 T \n",
      "131 G \n",
      "132 T \n",
      "133 T \n",
      "134 G \n",
      "135 T \n",
      "136 T \n",
      "137 G \n",
      "138 G \n",
      "139 G \n",
      "140 C \n",
      "141 C \n",
      "142 G \n",
      "143 C \n",
      "144 C \n",
      "145 T \n",
      "146 C \n",
      "147 G \n",
      "148 G \n",
      "149 G \n",
      "150 A \n",
      "151 G \n",
      "152 C \n",
      "153 G \n",
      "154 T \n",
      "155 C \n",
      "156 C \n",
      "157 A \n",
      "158 T \n",
      "159 G \n",
      "160 G \n",
      "161 C \n",
      "162 G \n",
      "163 G \n",
      "164 G \n",
      "165 T \n",
      "166 T \n",
      "167 T \n",
      "168 G \n",
      "169 A \n",
      "170 A \n",
      "171 C \n",
      "172 C \n",
      "173 T \n",
      "174 C \n",
      "175 T \n",
      "176 A \n",
      "177 G \n",
      "178 C \n",
      "179 C \n",
      "180 C \n",
      "181 G \n",
      "182 G \n",
      "183 C \n",
      "184 G \n",
      "185 C \n",
      "186 A \n",
      "187 G \n",
      "188 T \n",
      "189 T \n",
      "190 T \n",
      "191 G \n",
      "192 G \n",
      "193 G \n",
      "194 C \n",
      "195 G \n",
      "196 C \n",
      "197 C \n",
      "198 A \n",
      "199 A \n",
      "200 G \n",
      "201 C \n",
      "202 C \n",
      "203 A \n",
      "204 T \n",
      "205 A \n",
      "206 T \n",
      "207 G \n",
      "208 A \n",
      "209 A \n",
      "210 A \n",
      "211 G \n",
      "212 C \n",
      "213 A \n",
      "214 T \n",
      "215 C \n",
      "216 A \n",
      "217 C \n",
      "218 C \n",
      "219 G \n",
      "220 G \n",
      "221 C \n",
      "222 G \n",
      "223 A \n",
      "224 A \n",
      "225 T \n",
      "226 G \n",
      "227 G \n",
      "228 C \n",
      "229 A \n",
      "230 T \n",
      "231 T \n",
      "232 G \n",
      "233 T \n",
      "234 C \n",
      "235 T \n",
      "236 T \n",
      "237 C \n",
      "238 C \n",
      "239 C \n",
      "240 C \n",
      "241 A \n",
      "242 A \n",
      "243 A \n",
      "244 A \n",
      "245 C \n",
      "246 C \n",
      "247 C \n",
      "248 G \n",
      "249 G \n",
      "250 A \n",
      "251 G \n",
      "252 C \n",
      "253 G \n",
      "254 G \n",
      "255 C \n",
      "256 G \n",
      "257 G \n",
      "258 C \n",
      "259 G \n",
      "260 T \n",
      "261 G \n",
      "262 C \n",
      "263 T \n",
      "264 G \n",
      "265 T \n",
      "266 C \n",
      "267 G \n",
      "268 C \n",
      "269 G \n",
      "270 T \n",
      "271 G \n",
      "272 C \n",
      "273 C \n",
      "274 C \n",
      "275 A \n",
      "276 A \n",
      "277 T \n",
      "278 G \n",
      "279 A \n",
      "280 A \n",
      "281 T \n",
      "282 T \n",
      "283 T \n",
      "284 T \n",
      "285 G \n",
      "286 A \n",
      "287 T \n",
      "288 G \n",
      "289 A \n",
      "290 C \n",
      "291 T \n",
      "292 C \n",
      "293 T \n",
      "294 C \n",
      "295 G \n",
      "296 C \n",
      "297 A \n",
      "298 A \n",
      "299 A \n",
      "300 C \n",
      "301 G \n",
      "302 G \n",
      "303 G \n",
      "304 A \n",
      "305 A \n",
      "306 T \n",
      "307 C \n",
      "308 T \n",
      "309 T \n",
      "310 G \n",
      "311 G \n",
      "312 C \n",
      "313 T \n",
      "314 C \n",
      "315 T \n",
      "316 T \n",
      "317 T \n",
      "318 G \n",
      "319 C \n",
      "320 A \n",
      "321 T \n",
      "322 C \n",
      "323 G \n",
      "324 G \n",
      "325 A \n",
      "326 T \n",
      "327 G \n",
      "328 G \n",
      "329 A \n",
      "330 A \n",
      "331 G \n",
      "332 G \n",
      "333 A \n",
      "334 C \n",
      "335 G \n",
      "336 C \n",
      "337 A \n",
      "338 G \n",
      "339 C \n",
      "340 G \n",
      "341 A \n",
      "342 A \n",
      "343 A \n",
      "344 T \n",
      "345 G \n",
      "346 C \n",
      "347 G \n",
      "348 A \n",
      "349 T \n",
      "350 A \n",
      "351 A \n",
      "352 G \n",
      "353 T \n",
      "354 G \n",
      "355 G \n",
      "356 T \n",
      "357 G \n",
      "358 T \n",
      "359 G \n",
      "360 A \n",
      "361 A \n",
      "362 T \n",
      "363 T \n",
      "364 G \n",
      "365 C \n",
      "366 A \n",
      "367 A \n",
      "368 G \n",
      "369 A \n",
      "370 T \n",
      "371 C \n",
      "372 C \n",
      "373 C \n",
      "374 G \n",
      "375 T \n",
      "376 G \n",
      "377 A \n",
      "378 A \n",
      "379 C \n",
      "380 C \n",
      "381 A \n",
      "382 T \n",
      "383 C \n",
      "384 G \n",
      "385 A \n",
      "386 G \n",
      "387 T \n",
      "388 C \n",
      "389 T \n",
      "390 T \n",
      "391 T \n",
      "392 T \n",
      "393 G \n",
      "394 A \n",
      "395 A \n",
      "396 C \n",
      "397 G \n",
      "398 C \n",
      "399 A \n",
      "400 A \n",
      "401 G \n",
      "402 T \n",
      "403 T \n",
      "404 G \n",
      "405 C \n",
      "406 G \n",
      "407 C \n",
      "408 C \n",
      "409 C \n",
      "410 G \n",
      "411 A \n",
      "412 G \n",
      "413 G \n",
      "414 C \n",
      "415 C \n",
      "416 A \n",
      "417 T \n",
      "418 C \n",
      "419 A \n",
      "420 G \n",
      "421 G \n",
      "422 C \n",
      "423 T \n",
      "424 A \n",
      "425 A \n",
      "426 G \n",
      "427 G \n",
      "428 G \n",
      "429 C \n",
      "430 A \n",
      "431 C \n",
      "432 G \n",
      "433 C \n",
      "434 C \n",
      "435 T \n",
      "436 G \n",
      "437 C \n",
      "438 T \n",
      "439 T \n",
      "440 G \n",
      "441 G \n",
      "442 G \n",
      "443 C \n",
      "444 G \n",
      "445 T \n",
      "446 C \n",
      "447 G \n",
      "448 C \n",
      "449 G \n",
      "450 C \n",
      "451 T \n",
      "452 T \n",
      "453 C \n",
      "454 G \n",
      "455 T \n",
      "456 C \n",
      "457 T \n",
      "458 C \n",
      "459 T \n",
      "460 C \n",
      "461 T \n",
      "462 C \n",
      "463 C \n",
      "464 T \n",
      "465 G \n",
      "466 C \n",
      "467 C \n",
      "468 A \n",
      "469 A \n",
      "470 T \n",
      "471 G \n",
      "472 C \n",
      "473 T \n",
      "474 T \n",
      "475 G \n",
      "476 C \n",
      "477 C \n",
      "478 C \n",
      "479 G \n",
      "480 G \n",
      "481 C \n",
      "482 A \n",
      "483 T \n",
      "484 A \n",
      "485 C \n",
      "486 A \n",
      "487 G \n",
      "488 C \n",
      "489 C \n",
      "490 A \n",
      "491 G \n",
      "492 G \n",
      "493 C \n",
      "494 C \n",
      "495 G \n",
      "496 G \n",
      "497 C \n",
      "498 G \n",
      "499 T \n",
      "500 G \n",
      "501 G \n",
      "502 T \n",
      "503 G \n",
      "504 C \n",
      "505 G \n",
      "506 G \n",
      "507 A \n",
      "508 T \n",
      "509 G \n",
      "510 T \n",
      "511 G \n",
      "512 A \n",
      "513 A \n",
      "514 A \n",
      "515 G \n",
      "516 A \n",
      "517 T \n",
      "518 T \n",
      "519 G \n",
      "520 G \n",
      "521 C \n",
      "522 C \n",
      "523 C \n",
      "524 C \n",
      "525 T \n",
      "526 T \n",
      "527 G \n",
      "528 T \n",
      "529 G \n",
      "530 C \n",
      "531 C \n",
      "532 T \n",
      "533 A \n",
      "534 G \n",
      "535 G \n",
      "536 T \n",
      "537 G \n",
      "538 C \n",
      "539 G \n",
      "540 G \n",
      "541 C \n",
      "542 G \n",
      "543 G \n",
      "544 G \n",
      "545 T \n",
      "546 C \n",
      "547 C \n",
      "548 A \n",
      "549 A \n",
      "550 G \n",
      "551 A \n",
      "552 G \n",
      "553 C \n",
      "554 T \n",
      "555 G \n",
      "556 G \n",
      "557 T \n",
      "558 G \n",
      "559 T \n",
      "560 T \n",
      "561 T \n",
      "562 T \n",
      "563 G \n",
      "564 A \n",
      "565 T \n",
      "566 G \n",
      "567 G \n",
      "568 C \n",
      "569 C \n",
      "570 C \n",
      "571 G \n",
      "572 G \n",
      "573 A \n",
      "574 A \n",
      "575 C \n",
      "576 C \n",
      "577 C \n",
      "578 G \n",
      "579 G \n",
      "580 C \n",
      "581 A \n",
      "582 A \n",
      "583 G \n",
      "584 A \n",
      "585 G \n",
      "586 G \n",
      "587 T \n",
      "588 G \n",
      "589 G \n",
      "590 A \n",
      "591 C \n",
      "592 G \n",
      "593 G \n",
      "594 A \n",
      "595 T \n",
      "596 G \n",
      "597 C \n",
      "598 T \n",
      "599 G \n",
      "600 G \n",
      "601 C \n",
      "602 A \n",
      "603 G \n",
      "604 C \n",
      "605 A \n",
      "606 G \n",
      "607 C \n",
      "608 T \n",
      "609 G \n",
      "610 C \n",
      "611 C \n",
      "612 G \n",
      "613 T \n",
      "614 G \n",
      "615 C \n",
      "616 G \n",
      "617 A \n",
      "618 A \n",
      "619 T \n",
      "620 C \n",
      "621 C \n",
      "622 C \n",
      "623 C \n",
      "624 C \n",
      "625 A \n",
      "626 T \n",
      "627 G \n",
      "628 T \n",
      "629 T \n",
      "630 G \n",
      "631 T \n",
      "632 C \n",
      "633 G \n",
      "634 T \n",
      "635 G \n",
      "636 C \n",
      "637 T \n",
      "638 T \n",
      "639 G \n",
      "640 T \n",
      "641 C \n",
      "642 G \n",
      "643 G \n",
      "644 A \n",
      "645 C \n",
      "646 A \n",
      "647 G \n",
      "648 G \n",
      "649 C \n",
      "650 A \n",
      "651 G \n",
      "652 G \n",
      "653 A \n",
      "654 G \n",
      "655 A \n",
      "656 A \n",
      "657 C \n",
      "658 C \n",
      "659 C \n",
      "660 T \n",
      "661 T \n",
      "662 C \n",
      "663 C \n",
      "664 G \n",
      "665 A \n",
      "666 A \n",
      "667 C \n",
      "668 C \n",
      "669 C \n",
      "670 C \n",
      "671 A \n",
      "672 A \n",
      "673 T \n",
      "674 G \n",
      "675 G \n",
      "676 A \n",
      "677 G \n",
      "678 G \n",
      "679 G \n",
      "680 C \n",
      "681 G \n",
      "682 G \n",
      "683 T \n",
      "684 T \n",
      "685 G \n",
      "686 A \n",
      "687 C \n",
      "688 C \n",
      "689 G \n",
      "690 C \n",
      "691 C \n",
      "692 A \n",
      "693 T \n",
      "694 T \n",
      "695 C \n",
      "696 G \n",
      "697 G \n",
      "698 A \n",
      "699 T \n",
      "700 G \n",
      "701 T \n",
      "702 G \n",
      "703 A \n",
      "704 C \n",
      "705 C \n",
      "706 C \n",
      "707 C \n",
      "708 A \n",
      "709 G \n",
      "710 G \n",
      "711 T \n",
      "712 C \n",
      "713 A \n",
      "714 G \n",
      "715 G \n",
      "716 C \n",
      "717 G \n",
      "718 G \n",
      "719 G \n",
      "720 G \n",
      "721 G \n",
      "722 C \n",
      "723 A \n",
      "724 C \n",
      "725 C \n",
      "726 C \n",
      "727 G \n",
      "728 C \n",
      "729 T \n",
      "730 G \n",
      "731 A \n",
      "732 G \n",
      "733 T \n",
      "734 T \n",
      "735 T \n",
      "736 A \n",
      "737 C \n",
      "738 G \n",
      "739 C \n"
     ]
    },
    {
     "data": {
      "text/plain": [
       "740"
      ]
     },
     "execution_count": 47,
     "metadata": {},
     "output_type": "execute_result"
    }
   ],
   "source": [
    "\n",
    "for index, letter in enumerate(myseq):\n",
    "    print(\"%i %s \" % (index, letter))\n",
    "    \n",
    "len(myseq)"
   ]
  },
  {
   "cell_type": "code",
   "execution_count": 52,
   "metadata": {},
   "outputs": [
    {
     "name": "stdout",
     "output_type": "stream",
     "text": [
      "A : 144 \n",
      "T:  155 \n",
      "G:  241 \n",
      "C:  200\n"
     ]
    }
   ],
   "source": [
    "G_count = myseq.count(\"G\")\n",
    "C_count = myseq.count(\"C\")\n",
    "A_count = myseq.count(\"A\")\n",
    "T_count = myseq.count(\"T\")\n",
    "\n",
    "print('A :',A_count,'\\nT: ',T_count,'\\nG: ',G_count,'\\nC: ',C_count)"
   ]
  },
  {
   "cell_type": "code",
   "execution_count": 58,
   "metadata": {},
   "outputs": [
    {
     "name": "stdout",
     "output_type": "stream",
     "text": [
      "CGTAACAAGGTTTCCGTAGGTGAACCTGCGGAAGGATCATTGATGAGACCGTGGAATAAACGATCGAGTGAATCCGGAGGACCGGTGTACTCAGCTCACCGGGGGCATTGCTCCCGTGGTGACCCTGATTTGTTGTTGGGCCGCCTCGGGAGCGTCCATGGCGGGTTTGAACCTCTAGCCCGGCGCAGTTTGGGCGCCAAGCCATATGAAAGCATCACCGGCGAATGGCATTGTCTTCCCCAAAACCCGGAGCGGCGGCGTGCTGTCGCGTGCCCAATGAATTTTGATGACTCTCGCAAACGGGAATCTTGGCTCTTTGCATCGGATGGAAGGACGCAGCGAAATGCGATAAGTGGTGTGAATTGCAAGATCCCGTGAACCATCGAGTCTTTTGAACGCAAGTTGCGCCCGAGGCCATCAGGCTAAGGGCACGCCTGCTTGGGCGTCGCGCTTCGTCTCTCTCCTGCCAATGCTTGCCCGGCATACAGCCAGGCCGGCGTGGTGCGGATGTGAAAGATTGGCCCCTTGTGCCTAGGTGCGGCGGGTCCAAGAGCTGGTGTTTTGATGGCCCGGAACCCGGCAAGAGGTGGACGGATGCTGGCAGCAGCTGCCGTGCGAATCCCCCATGTTGTCGTGCTTGTCGGACAGGCAGGAGAACCCTTCCGAACCCCAATGGAGGGCGGTTGACCGCCATTCGGATGTGACCCCAGGTCAGGCGGGGGCACCCGCTGAGTTTACGC \n",
      "\n",
      "***********\n",
      "\n",
      "CGCATTTGAGTCGCCCACGGGGGCGGACTGGACCCCAGTGTAGGCTTACCGCCAGTTGGCGGGAGGTAACCCCAAGCCTTCCCAAGAGGACGGACAGGCTGTTCGTGCTGTTGTACCCCCTAAGCGTGCCGTCGACGACGGTCGTAGGCAGGTGGAGAACGGCCCAAGGCCCGGTAGTTTTGTGGTCGAGAACCTGGGCGGCGTGGATCCGTGTTCCCCGGTTAGAAAGTGTAGGCGTGGTGCGGCCGGACCGACATACGGCCCGTTCGTAACCGTCCTCTCTCTGCTTCGCGCTGCGGGTTCGTCCGCACGGGAATCGGACTACCGGAGCCCGCGTTGAACGCAAGTTTTCTGAGCTACCAAGTGCCCTAGAACGTTAAGTGTGGTGAATAGCGTAAAGCGACGCAGGAAGGTAGGCTACGTTTCTCGGTTCTAAGGGCAAACGCTCTCAGTAGTTTTAAGTAACCCGTGCGCTGTCGTGCGGCGGCGAGGCCCAAAACCCCTTCTGTTACGGTAAGCGGCCACTACGAAAGTATACCGAACCGCGGGTTTGACGCGGCCCGATCTCCAAGTTTGGGCGGTACCTGCGAGGGCTCCGCCGGGTTGTTGTTTAGTCCCAGTGGTGCCCTCGTTACGGGGGCCACTCGACTCATGTGGCCAGGAGGCCTAAGTGAGCTAGCAAATAAGGTGCCAGAGTAGTTACTAGGAAGGCGTCCAAGTGGATGCCTTTGGAACAATGC\n"
     ]
    }
   ],
   "source": [
    "print(myseq,'\\n\\n***********\\n')\n",
    "myseq_reverse = myseq[::-1]\n",
    "print(myseq_reverse)"
   ]
  },
  {
   "cell_type": "code",
   "execution_count": 61,
   "metadata": {},
   "outputs": [
    {
     "name": "stdout",
     "output_type": "stream",
     "text": [
      "not ok\n"
     ]
    }
   ],
   "source": [
    "if my_seq == myseq_reverse:\n",
    "    print(\"perfect ok\")\n",
    "else:\n",
    "    print(\"not ok\")"
   ]
  },
  {
   "cell_type": "code",
   "execution_count": 70,
   "metadata": {},
   "outputs": [
    {
     "data": {
      "text/plain": [
       "59.5945945945946"
      ]
     },
     "execution_count": 70,
     "metadata": {},
     "output_type": "execute_result"
    }
   ],
   "source": [
    "from Bio.SeqUtils import GC\n",
    "\n",
    "GC(myseq)"
   ]
  },
  {
   "cell_type": "code",
   "execution_count": 69,
   "metadata": {},
   "outputs": [
    {
     "data": {
      "text/plain": [
       "59.5945945945946"
      ]
     },
     "execution_count": 69,
     "metadata": {},
     "output_type": "execute_result"
    }
   ],
   "source": [
    "GC(myseq_reverse)"
   ]
  },
  {
   "cell_type": "code",
   "execution_count": 67,
   "metadata": {},
   "outputs": [
    {
     "name": "stdout",
     "output_type": "stream",
     "text": [
      "CGCATTTGAGTCGCCCAC\n",
      "CACCCGCTGAGTTTACGC\n",
      "CGCATTTGAGTCGCCCAC\n",
      "61.111111111111114\n",
      "61.111111111111114\n",
      "61.111111111111114\n"
     ]
    }
   ],
   "source": [
    "my_seq1='CGCATTTGAGTCGCCCAC'\n",
    "myseq_reverse1 = my_seq1[::-1]\n",
    "myseq_rev1rev = myseq_reverse1[::-1]\n",
    "print(my_seq1)\n",
    "print(myseq_reverse1)\n",
    "print(myseq_rev1rev)\n",
    "\n",
    "print(GC(my_seq1))\n",
    "print(GC(myseq_reverse1))\n",
    "print(GC(myseq_rev1rev))"
   ]
  },
  {
   "cell_type": "code",
   "execution_count": 100,
   "metadata": {},
   "outputs": [
    {
     "name": "stdout",
     "output_type": "stream",
     "text": [
      "ATTTACGATTTACGATTTACGATTTACGATTTACGATTTACG\n",
      "equal\n",
      "IYDLRFTIYDLRFT \n",
      " IYDLRFTIYDLRFT \n",
      " AUUUACGAUUUACGAUUUACGAUUUACGAUUUACGAUUUACG \n",
      " ATTTACGATTTACGATTTACGATTTACGATTTACGATTTACG\n"
     ]
    }
   ],
   "source": [
    "print(my_seq)\n",
    "trans = my_seq.transcribe()\n",
    "prot = my_seq.translate()\n",
    "prote = trans.translate()\n",
    "back_trans = trans.back_transcribe()\n",
    "if back_trans == my_seq:\n",
    "    print(\"equal\")\n",
    "print(prot,'\\n',prote,'\\n',trans,'\\n',back_trans)"
   ]
  },
  {
   "cell_type": "code",
   "execution_count": 94,
   "metadata": {},
   "outputs": [
    {
     "name": "stdout",
     "output_type": "stream",
     "text": [
      "CGCATTTGAGTCGCCCACGGGGGCGGACTGGACCCCAGTGTAGGCTTACCGCCAGTTGGCGGGAGGTAACCCCAAGCCTTCCCAAGAGGACGGACAGGCTGTTCGTGCTGTTGTACCCCCTAAGCGTGCCGTCGACGACGGTCGTAGGCAGGTGGAGAACGGCCCAAGGCCCGGTAGTTTTGTGGTCGAGAACCTGGGCGGCGTGGATCCGTGTTCCCCGGTTAGAAAGTGTAGGCGTGGTGCGGCCGGACCGACATACGGCCCGTTCGTAACCGTCCTCTCTCTGCTTCGCGCTGCGGGTTCGTCCGCACGGGAATCGGACTACCGGAGCCCGCGTTGAACGCAAGTTTTCTGAGCTACCAAGTGCCCTAGAACGTTAAGTGTGGTGAATAGCGTAAAGCGACGCAGGAAGGTAGGCTACGTTTCTCGGTTCTAAGGGCAAACGCTCTCAGTAGTTTTAAGTAACCCGTGCGCTGTCGTGCGGCGGCGAGGCCCAAAACCCCTTCTGTTACGGTAAGCGGCCACTACGAAAGTATACCGAACCGCGGGTTTGACGCGGCCCGATCTCCAAGTTTGGGCGGTACCTGCGAGGGCTCCGCCGGGTTGTTGTTTAGTCCCAGTGGTGCCCTCGTTACGGGGGCCACTCGACTCATGTGGCCAGGAGGCCTAAGTGAGCTAGCAAATAAGGTGCCAGAGTAGTTACTAGGAAGGCGTCCAAGTGGATGCCTTTGGAACAATGC\n",
      "RI*VAHGGGLDPSVGLPPVGGR*PQAFPRGRTGCSCCCTP*ACRRRRS*AGGERPKAR*FCGREPGRRGSVFPG*KV*AWCGRTDIRPVRNRPLSASRCGFVRTGIGLPEPALNASFLSYQVP*NVKCGE*RKATQEGRLRFSVLRANALSSFK*PVRCRAAARPKTPSVTVSGHYESIPNRGFDAARSPSLGGTCEGSAGLLFSPSGALVTGATRLMWPGGLSELANKVPE*LLGRRPSGCLWNN\n"
     ]
    },
    {
     "name": "stderr",
     "output_type": "stream",
     "text": [
      "/home/user/anaconda3/lib/python3.9/site-packages/Bio/Seq.py:2979: BiopythonWarning: Partial codon, len(sequence) not a multiple of three. Explicitly trim the sequence or add trailing N before translation. This may become an error in future.\n",
      "  warnings.warn(\n"
     ]
    }
   ],
   "source": [
    "print(myseq_reverse)\n",
    "prot2 = myseq_reverse.translate()\n",
    "print(prot2)"
   ]
  },
  {
   "cell_type": "markdown",
   "metadata": {},
   "source": [
    "### translational table"
   ]
  },
  {
   "cell_type": "code",
   "execution_count": 103,
   "metadata": {},
   "outputs": [
    {
     "name": "stdout",
     "output_type": "stream",
     "text": [
      "Table 1 Standard, SGC0\n",
      "\n",
      "  |  T      |  C      |  A      |  G      |\n",
      "--+---------+---------+---------+---------+--\n",
      "T | TTT F   | TCT S   | TAT Y   | TGT C   | T\n",
      "T | TTC F   | TCC S   | TAC Y   | TGC C   | C\n",
      "T | TTA L   | TCA S   | TAA Stop| TGA Stop| A\n",
      "T | TTG L(s)| TCG S   | TAG Stop| TGG W   | G\n",
      "--+---------+---------+---------+---------+--\n",
      "C | CTT L   | CCT P   | CAT H   | CGT R   | T\n",
      "C | CTC L   | CCC P   | CAC H   | CGC R   | C\n",
      "C | CTA L   | CCA P   | CAA Q   | CGA R   | A\n",
      "C | CTG L(s)| CCG P   | CAG Q   | CGG R   | G\n",
      "--+---------+---------+---------+---------+--\n",
      "A | ATT I   | ACT T   | AAT N   | AGT S   | T\n",
      "A | ATC I   | ACC T   | AAC N   | AGC S   | C\n",
      "A | ATA I   | ACA T   | AAA K   | AGA R   | A\n",
      "A | ATG M(s)| ACG T   | AAG K   | AGG R   | G\n",
      "--+---------+---------+---------+---------+--\n",
      "G | GTT V   | GCT A   | GAT D   | GGT G   | T\n",
      "G | GTC V   | GCC A   | GAC D   | GGC G   | C\n",
      "G | GTA V   | GCA A   | GAA E   | GGA G   | A\n",
      "G | GTG V   | GCG A   | GAG E   | GGG G   | G\n",
      "--+---------+---------+---------+---------+--\n"
     ]
    }
   ],
   "source": [
    "from Bio.Data import CodonTable\n",
    "\n",
    "standard_table = CodonTable.unambiguous_dna_by_name[\"Standard\"]\n",
    "\n",
    "print(standard_table)"
   ]
  },
  {
   "cell_type": "code",
   "execution_count": 102,
   "metadata": {},
   "outputs": [
    {
     "name": "stdout",
     "output_type": "stream",
     "text": [
      "Table 2 Vertebrate Mitochondrial, SGC1\n",
      "\n",
      "  |  T      |  C      |  A      |  G      |\n",
      "--+---------+---------+---------+---------+--\n",
      "T | TTT F   | TCT S   | TAT Y   | TGT C   | T\n",
      "T | TTC F   | TCC S   | TAC Y   | TGC C   | C\n",
      "T | TTA L   | TCA S   | TAA Stop| TGA W   | A\n",
      "T | TTG L   | TCG S   | TAG Stop| TGG W   | G\n",
      "--+---------+---------+---------+---------+--\n",
      "C | CTT L   | CCT P   | CAT H   | CGT R   | T\n",
      "C | CTC L   | CCC P   | CAC H   | CGC R   | C\n",
      "C | CTA L   | CCA P   | CAA Q   | CGA R   | A\n",
      "C | CTG L   | CCG P   | CAG Q   | CGG R   | G\n",
      "--+---------+---------+---------+---------+--\n",
      "A | ATT I(s)| ACT T   | AAT N   | AGT S   | T\n",
      "A | ATC I(s)| ACC T   | AAC N   | AGC S   | C\n",
      "A | ATA M(s)| ACA T   | AAA K   | AGA Stop| A\n",
      "A | ATG M(s)| ACG T   | AAG K   | AGG Stop| G\n",
      "--+---------+---------+---------+---------+--\n",
      "G | GTT V   | GCT A   | GAT D   | GGT G   | T\n",
      "G | GTC V   | GCC A   | GAC D   | GGC G   | C\n",
      "G | GTA V   | GCA A   | GAA E   | GGA G   | A\n",
      "G | GTG V(s)| GCG A   | GAG E   | GGG G   | G\n",
      "--+---------+---------+---------+---------+--\n"
     ]
    }
   ],
   "source": [
    "mito_table = CodonTable.unambiguous_dna_by_name[\"Vertebrate Mitochondrial\"]\n",
    "print(mito_table)"
   ]
  },
  {
   "cell_type": "code",
   "execution_count": 104,
   "metadata": {},
   "outputs": [
    {
     "name": "stdout",
     "output_type": "stream",
     "text": [
      "['TTG', 'CTG', 'ATG']\n"
     ]
    }
   ],
   "source": [
    "start_codon = standard_table.start_codons\n",
    "print(start_codon)"
   ]
  },
  {
   "cell_type": "code",
   "execution_count": 105,
   "metadata": {},
   "outputs": [
    {
     "name": "stdout",
     "output_type": "stream",
     "text": [
      "['TAA', 'TAG', 'TGA']\n"
     ]
    }
   ],
   "source": [
    "stop_codon = standard_table.stop_codons\n",
    "print(stop_codon)"
   ]
  },
  {
   "cell_type": "markdown",
   "metadata": {},
   "source": [
    "### error in mutating string"
   ]
  },
  {
   "cell_type": "code",
   "execution_count": 107,
   "metadata": {},
   "outputs": [
    {
     "name": "stdout",
     "output_type": "stream",
     "text": [
      "ATTTACGATTTACGATTTACGATTTACGATTTACGATTTACG\n"
     ]
    },
    {
     "ename": "TypeError",
     "evalue": "'Seq' object does not support item assignment",
     "output_type": "error",
     "traceback": [
      "\u001b[0;31m---------------------------------------------------------------------------\u001b[0m",
      "\u001b[0;31mTypeError\u001b[0m                                 Traceback (most recent call last)",
      "\u001b[0;32m/tmp/ipykernel_10757/1678554687.py\u001b[0m in \u001b[0;36m<module>\u001b[0;34m\u001b[0m\n\u001b[1;32m      1\u001b[0m \u001b[0mprint\u001b[0m\u001b[0;34m(\u001b[0m\u001b[0mmy_seq\u001b[0m\u001b[0;34m)\u001b[0m\u001b[0;34m\u001b[0m\u001b[0;34m\u001b[0m\u001b[0m\n\u001b[0;32m----> 2\u001b[0;31m \u001b[0mmy_seq\u001b[0m\u001b[0;34m[\u001b[0m\u001b[0;36m3\u001b[0m\u001b[0;34m]\u001b[0m \u001b[0;34m=\u001b[0m \u001b[0;34m'G'\u001b[0m\u001b[0;34m\u001b[0m\u001b[0;34m\u001b[0m\u001b[0m\n\u001b[0m\u001b[1;32m      3\u001b[0m \u001b[0mprint\u001b[0m\u001b[0;34m(\u001b[0m\u001b[0mmy_seq\u001b[0m\u001b[0;34m)\u001b[0m\u001b[0;34m\u001b[0m\u001b[0;34m\u001b[0m\u001b[0m\n",
      "\u001b[0;31mTypeError\u001b[0m: 'Seq' object does not support item assignment"
     ]
    }
   ],
   "source": [
    "print(my_seq)\n",
    "my_seq[3] = 'G'\n",
    "print(my_seq)"
   ]
  },
  {
   "cell_type": "markdown",
   "metadata": {},
   "source": [
    "### mutable sequence creation"
   ]
  },
  {
   "cell_type": "code",
   "execution_count": 122,
   "metadata": {},
   "outputs": [
    {
     "name": "stdout",
     "output_type": "stream",
     "text": [
      "ATTTACGATTTACGATTTACGATTTACGATTTACGATTTACG\n",
      "ATTGACGATTTACGATTTACGATTTACGATTTACGATTTACG\n"
     ]
    }
   ],
   "source": [
    "from Bio.Seq import MutableSeq\n",
    "mutable_seq = MutableSeq(my_seq)\n",
    "print(mutable_seq)\n",
    "# print(my_seq)\n",
    "# my_seq\n",
    "mutable_seq[3]='G'\n",
    "print(mutable_seq)"
   ]
  },
  {
   "cell_type": "code",
   "execution_count": 123,
   "metadata": {},
   "outputs": [
    {
     "name": "stdout",
     "output_type": "stream",
     "text": [
      "ATTGACGATTTACGATTTACGATTTACGATTTACGATTTACG\n"
     ]
    }
   ],
   "source": [
    "print(mutable_seq)\n"
   ]
  },
  {
   "cell_type": "code",
   "execution_count": 125,
   "metadata": {},
   "outputs": [
    {
     "name": "stdout",
     "output_type": "stream",
     "text": [
      "TTGCGATTTACGATTTACGATTTACGATTTACGATTTACG\n"
     ]
    }
   ],
   "source": [
    "mutable_seq.remove(\"A\")\n",
    "print(mutable_seq)"
   ]
  },
  {
   "cell_type": "code",
   "execution_count": 126,
   "metadata": {},
   "outputs": [
    {
     "data": {
      "text/plain": [
       "MutableSeq('GCATTTAGCATTTAGCATTTAGCATTTAGCATTTAGCGTT')"
      ]
     },
     "execution_count": 126,
     "metadata": {},
     "output_type": "execute_result"
    }
   ],
   "source": [
    "mutable_seq.reverse()\n",
    "mutable_seq"
   ]
  },
  {
   "cell_type": "code",
   "execution_count": null,
   "metadata": {},
   "outputs": [],
   "source": []
  }
 ],
 "metadata": {
  "kernelspec": {
   "display_name": "Python 3 (ipykernel)",
   "language": "python",
   "name": "python3"
  },
  "language_info": {
   "codemirror_mode": {
    "name": "ipython",
    "version": 3
   },
   "file_extension": ".py",
   "mimetype": "text/x-python",
   "name": "python",
   "nbconvert_exporter": "python",
   "pygments_lexer": "ipython3",
   "version": "3.9.7"
  }
 },
 "nbformat": 4,
 "nbformat_minor": 2
}
