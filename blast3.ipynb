{
 "cells": [
  {
   "cell_type": "code",
   "execution_count": 4,
   "id": "4b7e7969",
   "metadata": {},
   "outputs": [],
   "source": [
    "from Bio.Blast import NCBIWWW"
   ]
  },
  {
   "cell_type": "code",
   "execution_count": 5,
   "id": "276fdfea",
   "metadata": {},
   "outputs": [],
   "source": [
    "result_handle = NCBIWWW.qblast(\"blastn\", \"nt\", \"\"\"ggtaagtcctctagtacaaacacccccaatattgtgatataattaaa\n",
    "attatattcatattctgttgccagaaaaaacacttttaggctatattagagccatcttctttgaagcgttgtc\"\"\")"
   ]
  },
  {
   "cell_type": "code",
   "execution_count": 6,
   "id": "7ad53a85",
   "metadata": {},
   "outputs": [],
   "source": [
    "# BLAST generates output in XML format and we need to somehow parse it!\n",
    "from Bio.Blast import NCBIXML\n",
    "\n",
    "blast_records = NCBIXML.parse(result_handle)"
   ]
  },
  {
   "cell_type": "code",
   "execution_count": 7,
   "id": "2c2426f9",
   "metadata": {},
   "outputs": [
    {
     "data": {
      "text/plain": [
       "[<Bio.Blast.Record.Blast at 0x7ffb07302d60>]"
      ]
     },
     "execution_count": 7,
     "metadata": {},
     "output_type": "execute_result"
    }
   ],
   "source": [
    "blast_records = list(blast_records)\n",
    "\n",
    "blast_records"
   ]
  },
  {
   "cell_type": "code",
   "execution_count": 17,
   "id": "5a4e1bb9",
   "metadata": {},
   "outputs": [
    {
     "ename": "AttributeError",
     "evalue": "'list' object has no attribute 'alignments'",
     "output_type": "error",
     "traceback": [
      "\u001b[0;31m---------------------------------------------------------------------------\u001b[0m",
      "\u001b[0;31mAttributeError\u001b[0m                            Traceback (most recent call last)",
      "\u001b[0;32m/tmp/ipykernel_8536/517154484.py\u001b[0m in \u001b[0;36m<module>\u001b[0;34m\u001b[0m\n\u001b[1;32m      2\u001b[0m \u001b[0mcount\u001b[0m \u001b[0;34m=\u001b[0m \u001b[0;36m0\u001b[0m\u001b[0;34m\u001b[0m\u001b[0;34m\u001b[0m\u001b[0m\n\u001b[1;32m      3\u001b[0m \u001b[0;32mfor\u001b[0m \u001b[0mrecord\u001b[0m \u001b[0;32min\u001b[0m \u001b[0mblast_records\u001b[0m\u001b[0;34m:\u001b[0m\u001b[0;34m\u001b[0m\u001b[0;34m\u001b[0m\u001b[0m\n\u001b[0;32m----> 4\u001b[0;31m     \u001b[0;32mfor\u001b[0m \u001b[0malignment\u001b[0m \u001b[0;32min\u001b[0m \u001b[0mblast_records\u001b[0m\u001b[0;34m.\u001b[0m\u001b[0malignments\u001b[0m\u001b[0;34m:\u001b[0m\u001b[0;34m\u001b[0m\u001b[0;34m\u001b[0m\u001b[0m\n\u001b[0m\u001b[1;32m      5\u001b[0m         \u001b[0;32mfor\u001b[0m \u001b[0mhsp\u001b[0m \u001b[0;32min\u001b[0m \u001b[0malignment\u001b[0m\u001b[0;34m.\u001b[0m\u001b[0mhsps\u001b[0m\u001b[0;34m:\u001b[0m\u001b[0;34m\u001b[0m\u001b[0;34m\u001b[0m\u001b[0m\n\u001b[1;32m      6\u001b[0m             \u001b[0;32mif\u001b[0m \u001b[0mhsp\u001b[0m\u001b[0;34m.\u001b[0m\u001b[0mexpect\u001b[0m \u001b[0;34m<\u001b[0m \u001b[0mE_VALUE_THRESH\u001b[0m\u001b[0;34m:\u001b[0m\u001b[0;34m\u001b[0m\u001b[0;34m\u001b[0m\u001b[0m\n",
      "\u001b[0;31mAttributeError\u001b[0m: 'list' object has no attribute 'alignments'"
     ]
    }
   ],
   "source": [
    "E_VALUE_THRESH = 0.00000000001 \n",
    "count = 0\n",
    "for record in blast_records:\n",
    "    for alignment in blast_records.alignments:\n",
    "        for hsp in alignment.hsps:\n",
    "            if hsp.expect < E_VALUE_THRESH:\n",
    "                count += 1\n",
    "                print(\"****Alignment****\")\n",
    "                print(\"sequence:\", alignment.title)\n",
    "                print(\"length:\", alignment.length)\n",
    "                print(hsp.query[0:75] + \"...\")\n",
    "                print(hsp.match[0:75] + \"...\")\n",
    "                print(hsp.sbjct[0:75] + \"...\")\n",
    "                print()\n",
    "                \n",
    "print(f\"There are {count} similar sequences in Blast output\")"
   ]
  },
  {
   "cell_type": "code",
   "execution_count": null,
   "id": "79eac264",
   "metadata": {},
   "outputs": [],
   "source": []
  }
 ],
 "metadata": {
  "kernelspec": {
   "display_name": "Python 3 (ipykernel)",
   "language": "python",
   "name": "python3"
  },
  "language_info": {
   "codemirror_mode": {
    "name": "ipython",
    "version": 3
   },
   "file_extension": ".py",
   "mimetype": "text/x-python",
   "name": "python",
   "nbconvert_exporter": "python",
   "pygments_lexer": "ipython3",
   "version": "3.9.7"
  }
 },
 "nbformat": 4,
 "nbformat_minor": 5
}
